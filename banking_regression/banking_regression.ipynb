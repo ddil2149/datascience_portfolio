{
 "cells": [
  {
   "cell_type": "markdown",
   "metadata": {},
   "source": [
    "# Banking Regression Review"
   ]
  },
  {
   "cell_type": "markdown",
   "metadata": {},
   "source": [
    "## Background"
   ]
  },
  {
   "cell_type": "markdown",
   "metadata": {},
   "source": [
    "The intent of this excercise is to build a logistic regression model to \"predict if the client will subscribe a bank term deposit (variable y).\"\n",
    "\n",
    "In addition, the following data dictionary was provided with the dataset (with formatting edits):\n",
    "\n",
    "### bank client data:\n",
    "1. age (numeric)\n",
    "2. job : type of job (categorical: \"admin.\", \"blue-collar\", \"entrepreneur\", \"housemaid\", \"management\", \"retired\", \"self-employed\", \"services\", \"student\", \"technician\", \"unemployed\", \"unknown\")\n",
    "3. marital : marital status (categorical: \"divorced\", \"married\", \"single\", \"unknown\"; note: \"divorced\" means divorced or widowed)\n",
    "4. education (categorical: \"basic.4y\", \"basic.6y\", \"basic.9y\", \"high.school\", \"illiterate\", \"professional.course\", \"university.degree\", \"unknown\")\n",
    "5. default: has credit in default? (categorical: \"no\",\"yes\",\"unknown\")\n",
    "6. housing: has housing loan? (categorical: \"no\",\"yes\",\"unknown\")\n",
    "7. loan: has personal loan? (categorical: \"no\",\"yes\",\"unknown\")\n",
    "### related with the last contact of the current campaign:\n",
    "8. contact: contact communication type (categorical: \"cellular\",\"telephone\") \n",
    "9. month: last contact month of year (categorical: \"jan\", \"feb\", \"mar\", ..., \"nov\", \"dec\")\n",
    "10. day_of_week: last contact day of the week (categorical: \"mon\",\"tue\",\"wed\",\"thu\",\"fri\")\n",
    "11. duration: last contact duration, in seconds (numeric). Important note:  this attribute highly affects the output target (e.g., if duration=0 then y=\"no\"). Yet, the duration is not known before a call is performed. Also, after the end of the call y is obviously known. Thus, this input should only be included for benchmark purposes and should be discarded if the intention is to have a realistic predictive model.\n",
    "### other attributes:\n",
    "12. campaign: number of contacts performed during this campaign and for this client (numeric, includes last contact)\n",
    "13. pdays: number of days that passed by after the client was last contacted from a previous campaign (numeric; 999 means client was not previously contacted)\n",
    "14. previous: number of contacts performed before this campaign and for this client (numeric)\n",
    "15. poutcome: outcome of the previous marketing campaign (categorical: \"failure\",\"nonexistent\",\"success\")\n",
    "### social and economic context attributes:\n",
    "16. emp.var.rate: employment variation rate - quarterly indicator (numeric)\n",
    "17. cons.price.idx: consumer price index - monthly indicator (numeric)     \n",
    "18. cons.conf.idx: consumer confidence index - monthly indicator (numeric)     \n",
    "17. euribor3m: euribor 3 month rate - daily indicator (numeric)\n",
    "20. nr.employed: number of employees - quarterly indicator (numeric)\n",
    "\n",
    "### Output variable (desired target):\n",
    "21. y - has the client subscribed a term deposit? (binary: \"yes\",\"no\")\n",
    "\n",
    "Data used for this case study and quoted information above is publically available, accessed via the UCI portal. \n",
    "\n",
    "Citation to the original data is below:\n",
    "\n",
    "[Moro et al., 2014] S. Moro, P. Cortez and P. Rita. A Data-Driven Approach to Predict the Success of Bank Telemarketing. Decision Support Systems, In press, http://dx.doi.org/10.1016/j.dss.2014.03.001"
   ]
  },
  {
   "cell_type": "markdown",
   "metadata": {},
   "source": [
    "## Import Modules"
   ]
  },
  {
   "cell_type": "code",
   "execution_count": 1,
   "metadata": {},
   "outputs": [],
   "source": [
    "import pandas as pd\n",
    "import numpy as np\n",
    "import re\n",
    "from sklearn.model_selection import train_test_split\n",
    "import matplotlib.pyplot as plt\n",
    "import seaborn as sns\n",
    "from IPython.display import display\n",
    "import statsmodels.api as sm\n",
    "from sklearn import metrics\n",
    "import xgboost as xgb\n",
    "from sklearn.model_selection import GridSearchCV\n",
    "\n",
    "%matplotlib inline"
   ]
  },
  {
   "cell_type": "markdown",
   "metadata": {},
   "source": [
    "## Import Data"
   ]
  },
  {
   "cell_type": "code",
   "execution_count": 2,
   "metadata": {},
   "outputs": [
    {
     "data": {
      "text/html": [
       "<div>\n",
       "<style scoped>\n",
       "    .dataframe tbody tr th:only-of-type {\n",
       "        vertical-align: middle;\n",
       "    }\n",
       "\n",
       "    .dataframe tbody tr th {\n",
       "        vertical-align: top;\n",
       "    }\n",
       "\n",
       "    .dataframe thead th {\n",
       "        text-align: right;\n",
       "    }\n",
       "</style>\n",
       "<table border=\"1\" class=\"dataframe\">\n",
       "  <thead>\n",
       "    <tr style=\"text-align: right;\">\n",
       "      <th></th>\n",
       "      <th>age</th>\n",
       "      <th>job</th>\n",
       "      <th>marital</th>\n",
       "      <th>education</th>\n",
       "      <th>default</th>\n",
       "      <th>housing</th>\n",
       "      <th>loan</th>\n",
       "      <th>contact</th>\n",
       "      <th>month</th>\n",
       "      <th>day_of_week</th>\n",
       "      <th>...</th>\n",
       "      <th>campaign</th>\n",
       "      <th>pdays</th>\n",
       "      <th>previous</th>\n",
       "      <th>poutcome</th>\n",
       "      <th>emp_var_rate</th>\n",
       "      <th>cons_price_idx</th>\n",
       "      <th>cons_conf_idx</th>\n",
       "      <th>euribor3m</th>\n",
       "      <th>nr_employed</th>\n",
       "      <th>y</th>\n",
       "    </tr>\n",
       "  </thead>\n",
       "  <tbody>\n",
       "    <tr>\n",
       "      <th>0</th>\n",
       "      <td>56</td>\n",
       "      <td>housemaid</td>\n",
       "      <td>married</td>\n",
       "      <td>basic.4y</td>\n",
       "      <td>no</td>\n",
       "      <td>no</td>\n",
       "      <td>no</td>\n",
       "      <td>telephone</td>\n",
       "      <td>may</td>\n",
       "      <td>mon</td>\n",
       "      <td>...</td>\n",
       "      <td>1</td>\n",
       "      <td>999</td>\n",
       "      <td>0</td>\n",
       "      <td>nonexistent</td>\n",
       "      <td>1.1</td>\n",
       "      <td>93.994</td>\n",
       "      <td>-36.4</td>\n",
       "      <td>4.857</td>\n",
       "      <td>5191.0</td>\n",
       "      <td>no</td>\n",
       "    </tr>\n",
       "    <tr>\n",
       "      <th>1</th>\n",
       "      <td>57</td>\n",
       "      <td>services</td>\n",
       "      <td>married</td>\n",
       "      <td>high.school</td>\n",
       "      <td>unknown</td>\n",
       "      <td>no</td>\n",
       "      <td>no</td>\n",
       "      <td>telephone</td>\n",
       "      <td>may</td>\n",
       "      <td>mon</td>\n",
       "      <td>...</td>\n",
       "      <td>1</td>\n",
       "      <td>999</td>\n",
       "      <td>0</td>\n",
       "      <td>nonexistent</td>\n",
       "      <td>1.1</td>\n",
       "      <td>93.994</td>\n",
       "      <td>-36.4</td>\n",
       "      <td>4.857</td>\n",
       "      <td>5191.0</td>\n",
       "      <td>no</td>\n",
       "    </tr>\n",
       "    <tr>\n",
       "      <th>2</th>\n",
       "      <td>37</td>\n",
       "      <td>services</td>\n",
       "      <td>married</td>\n",
       "      <td>high.school</td>\n",
       "      <td>no</td>\n",
       "      <td>yes</td>\n",
       "      <td>no</td>\n",
       "      <td>telephone</td>\n",
       "      <td>may</td>\n",
       "      <td>mon</td>\n",
       "      <td>...</td>\n",
       "      <td>1</td>\n",
       "      <td>999</td>\n",
       "      <td>0</td>\n",
       "      <td>nonexistent</td>\n",
       "      <td>1.1</td>\n",
       "      <td>93.994</td>\n",
       "      <td>-36.4</td>\n",
       "      <td>4.857</td>\n",
       "      <td>5191.0</td>\n",
       "      <td>no</td>\n",
       "    </tr>\n",
       "    <tr>\n",
       "      <th>3</th>\n",
       "      <td>40</td>\n",
       "      <td>admin.</td>\n",
       "      <td>married</td>\n",
       "      <td>basic.6y</td>\n",
       "      <td>no</td>\n",
       "      <td>no</td>\n",
       "      <td>no</td>\n",
       "      <td>telephone</td>\n",
       "      <td>may</td>\n",
       "      <td>mon</td>\n",
       "      <td>...</td>\n",
       "      <td>1</td>\n",
       "      <td>999</td>\n",
       "      <td>0</td>\n",
       "      <td>nonexistent</td>\n",
       "      <td>1.1</td>\n",
       "      <td>93.994</td>\n",
       "      <td>-36.4</td>\n",
       "      <td>4.857</td>\n",
       "      <td>5191.0</td>\n",
       "      <td>no</td>\n",
       "    </tr>\n",
       "    <tr>\n",
       "      <th>4</th>\n",
       "      <td>56</td>\n",
       "      <td>services</td>\n",
       "      <td>married</td>\n",
       "      <td>high.school</td>\n",
       "      <td>no</td>\n",
       "      <td>no</td>\n",
       "      <td>yes</td>\n",
       "      <td>telephone</td>\n",
       "      <td>may</td>\n",
       "      <td>mon</td>\n",
       "      <td>...</td>\n",
       "      <td>1</td>\n",
       "      <td>999</td>\n",
       "      <td>0</td>\n",
       "      <td>nonexistent</td>\n",
       "      <td>1.1</td>\n",
       "      <td>93.994</td>\n",
       "      <td>-36.4</td>\n",
       "      <td>4.857</td>\n",
       "      <td>5191.0</td>\n",
       "      <td>no</td>\n",
       "    </tr>\n",
       "  </tbody>\n",
       "</table>\n",
       "<p>5 rows × 21 columns</p>\n",
       "</div>"
      ],
      "text/plain": [
       "   age        job  marital    education  default housing loan    contact  \\\n",
       "0   56  housemaid  married     basic.4y       no      no   no  telephone   \n",
       "1   57   services  married  high.school  unknown      no   no  telephone   \n",
       "2   37   services  married  high.school       no     yes   no  telephone   \n",
       "3   40     admin.  married     basic.6y       no      no   no  telephone   \n",
       "4   56   services  married  high.school       no      no  yes  telephone   \n",
       "\n",
       "  month day_of_week  ...  campaign  pdays  previous     poutcome emp_var_rate  \\\n",
       "0   may         mon  ...         1    999         0  nonexistent          1.1   \n",
       "1   may         mon  ...         1    999         0  nonexistent          1.1   \n",
       "2   may         mon  ...         1    999         0  nonexistent          1.1   \n",
       "3   may         mon  ...         1    999         0  nonexistent          1.1   \n",
       "4   may         mon  ...         1    999         0  nonexistent          1.1   \n",
       "\n",
       "   cons_price_idx  cons_conf_idx  euribor3m  nr_employed   y  \n",
       "0          93.994          -36.4      4.857       5191.0  no  \n",
       "1          93.994          -36.4      4.857       5191.0  no  \n",
       "2          93.994          -36.4      4.857       5191.0  no  \n",
       "3          93.994          -36.4      4.857       5191.0  no  \n",
       "4          93.994          -36.4      4.857       5191.0  no  \n",
       "\n",
       "[5 rows x 21 columns]"
      ]
     },
     "execution_count": 2,
     "metadata": {},
     "output_type": "execute_result"
    }
   ],
   "source": [
    "fullDat = pd.read_csv('../data/bank-additional/bank-additional-full.csv', sep = ';')\n",
    "## Change column names to be readable through\n",
    "\n",
    "colNames = {}\n",
    "for name in fullDat.columns:\n",
    "    colNames[name] = name.replace('.', '_')\n",
    "    \n",
    "fullDat.rename(columns = colNames, inplace = True)\n",
    "fullDat.head(5)"
   ]
  },
  {
   "cell_type": "markdown",
   "metadata": {},
   "source": [
    "## EDA"
   ]
  },
  {
   "cell_type": "code",
   "execution_count": 3,
   "metadata": {},
   "outputs": [
    {
     "name": "stdout",
     "output_type": "stream",
     "text": [
      "<class 'pandas.core.frame.DataFrame'>\n",
      "RangeIndex: 41188 entries, 0 to 41187\n",
      "Data columns (total 21 columns):\n",
      " #   Column          Non-Null Count  Dtype  \n",
      "---  ------          --------------  -----  \n",
      " 0   age             41188 non-null  int64  \n",
      " 1   job             41188 non-null  object \n",
      " 2   marital         41188 non-null  object \n",
      " 3   education       41188 non-null  object \n",
      " 4   default         41188 non-null  object \n",
      " 5   housing         41188 non-null  object \n",
      " 6   loan            41188 non-null  object \n",
      " 7   contact         41188 non-null  object \n",
      " 8   month           41188 non-null  object \n",
      " 9   day_of_week     41188 non-null  object \n",
      " 10  duration        41188 non-null  int64  \n",
      " 11  campaign        41188 non-null  int64  \n",
      " 12  pdays           41188 non-null  int64  \n",
      " 13  previous        41188 non-null  int64  \n",
      " 14  poutcome        41188 non-null  object \n",
      " 15  emp_var_rate    41188 non-null  float64\n",
      " 16  cons_price_idx  41188 non-null  float64\n",
      " 17  cons_conf_idx   41188 non-null  float64\n",
      " 18  euribor3m       41188 non-null  float64\n",
      " 19  nr_employed     41188 non-null  float64\n",
      " 20  y               41188 non-null  object \n",
      "dtypes: float64(5), int64(5), object(11)\n",
      "memory usage: 6.6+ MB\n"
     ]
    }
   ],
   "source": [
    "## Review data structure\n",
    "fullDat.info()"
   ]
  },
  {
   "cell_type": "markdown",
   "metadata": {},
   "source": [
    "### Review of Target"
   ]
  },
  {
   "cell_type": "code",
   "execution_count": 4,
   "metadata": {},
   "outputs": [
    {
     "data": {
      "text/plain": [
       "no     36548\n",
       "yes     4640\n",
       "Name: y, dtype: int64"
      ]
     },
     "execution_count": 4,
     "metadata": {},
     "output_type": "execute_result"
    }
   ],
   "source": [
    "fullDat.y.value_counts()"
   ]
  },
  {
   "cell_type": "code",
   "execution_count": 5,
   "metadata": {},
   "outputs": [
    {
     "data": {
      "text/plain": [
       "no     0.887\n",
       "yes    0.113\n",
       "Name: y, dtype: float64"
      ]
     },
     "execution_count": 5,
     "metadata": {},
     "output_type": "execute_result"
    }
   ],
   "source": [
    "round(fullDat.y.value_counts(normalize = True),3)"
   ]
  },
  {
   "cell_type": "markdown",
   "metadata": {},
   "source": [
    "The target, as mentioned in the introduction, contains only the values yes and no. While modeling, we should consider the impact of the class imbalance. Given the imbalance isn't heavy strong, I will not move forward with a SMOTE algorithim to account for the imbalance, rather handeling this within the model parameters where possible."
   ]
  },
  {
   "cell_type": "markdown",
   "metadata": {},
   "source": [
    "### Feature Review"
   ]
  },
  {
   "cell_type": "code",
   "execution_count": 6,
   "metadata": {},
   "outputs": [
    {
     "data": {
      "text/plain": [
       "age               0\n",
       "job               0\n",
       "marital           0\n",
       "education         0\n",
       "default           0\n",
       "housing           0\n",
       "loan              0\n",
       "contact           0\n",
       "month             0\n",
       "day_of_week       0\n",
       "duration          0\n",
       "campaign          0\n",
       "pdays             0\n",
       "previous          0\n",
       "poutcome          0\n",
       "emp_var_rate      0\n",
       "cons_price_idx    0\n",
       "cons_conf_idx     0\n",
       "euribor3m         0\n",
       "nr_employed       0\n",
       "y                 0\n",
       "dtype: int64"
      ]
     },
     "execution_count": 6,
     "metadata": {},
     "output_type": "execute_result"
    }
   ],
   "source": [
    "## Review distribution of NAs - looks like everything is populated\n",
    "fullDat.isna().sum()"
   ]
  },
  {
   "cell_type": "code",
   "execution_count": 7,
   "metadata": {},
   "outputs": [
    {
     "name": "stdout",
     "output_type": "stream",
     "text": [
      "Distribution for: job\n",
      "y                no   yes\n",
      "job                      \n",
      "admin.         9070  1352\n",
      "blue-collar    8616   638\n",
      "entrepreneur   1332   124\n",
      "housemaid       954   106\n",
      "management     2596   328\n",
      "retired        1286   434\n",
      "self-employed  1272   149\n",
      "services       3646   323\n",
      "student         600   275\n",
      "technician     6013   730\n",
      "unemployed      870   144\n",
      "unknown         293    37\n",
      "\n",
      "\n",
      "Distribution for: marital\n",
      "y            no   yes\n",
      "marital              \n",
      "divorced   4136   476\n",
      "married   22396  2532\n",
      "single     9948  1620\n",
      "unknown      68    12\n",
      "\n",
      "\n",
      "Distribution for: education\n",
      "y                       no   yes\n",
      "education                       \n",
      "basic.4y              3748   428\n",
      "basic.6y              2104   188\n",
      "basic.9y              5572   473\n",
      "high.school           8484  1031\n",
      "illiterate              14     4\n",
      "professional.course   4648   595\n",
      "university.degree    10498  1670\n",
      "unknown               1480   251\n",
      "\n",
      "\n",
      "Distribution for: default\n",
      "y             no     yes\n",
      "default                 \n",
      "no       28391.0  4197.0\n",
      "unknown   8154.0   443.0\n",
      "yes          3.0     NaN\n",
      "\n",
      "\n",
      "Distribution for: housing\n",
      "y           no   yes\n",
      "housing             \n",
      "no       16596  2026\n",
      "unknown    883   107\n",
      "yes      19069  2507\n",
      "\n",
      "\n",
      "Distribution for: loan\n",
      "y           no   yes\n",
      "loan                \n",
      "no       30100  3850\n",
      "unknown    883   107\n",
      "yes       5565   683\n",
      "\n",
      "\n",
      "Distribution for: contact\n",
      "y             no   yes\n",
      "contact               \n",
      "cellular   22291  3853\n",
      "telephone  14257   787\n",
      "\n",
      "\n",
      "Distribution for: month\n",
      "y         no  yes\n",
      "month            \n",
      "apr     2093  539\n",
      "aug     5523  655\n",
      "dec       93   89\n",
      "jul     6525  649\n",
      "jun     4759  559\n",
      "mar      270  276\n",
      "may    12883  886\n",
      "nov     3685  416\n",
      "oct      403  315\n",
      "sep      314  256\n",
      "\n",
      "\n",
      "Distribution for: day_of_week\n",
      "y              no   yes\n",
      "day_of_week            \n",
      "fri          6981   846\n",
      "mon          7667   847\n",
      "thu          7578  1045\n",
      "tue          7137   953\n",
      "wed          7185   949\n",
      "\n",
      "\n",
      "Distribution for: poutcome\n",
      "y               no   yes\n",
      "poutcome                \n",
      "failure       3647   605\n",
      "nonexistent  32422  3141\n",
      "success        479   894\n",
      "\n",
      "\n"
     ]
    }
   ],
   "source": [
    "for columnName in fullDat.columns:\n",
    "    if columnName == 'y':\n",
    "        pass\n",
    "    elif fullDat[columnName].dtype == object:\n",
    "        print(\"Distribution for:\", columnName)\n",
    "        print(fullDat.groupby(['y', columnName]).size().reset_index(name='Count').pivot_table(index = columnName,\n",
    "                                                                                 columns = 'y',\n",
    "                                                                                 values = 'Count'))\n",
    "        print('\\n')"
   ]
  },
  {
   "cell_type": "markdown",
   "metadata": {},
   "source": [
    "Based on the distribution above, there does appear to be good distributional spread across the target between most of the categorical features outside of default. Given there are only three \"yes\" values and imputating the portion of unknown's would be difficult, I'll drop this from further analysis."
   ]
  },
  {
   "cell_type": "code",
   "execution_count": 8,
   "metadata": {},
   "outputs": [],
   "source": [
    "fullDat.drop('default', axis = 1, inplace = True)"
   ]
  },
  {
   "cell_type": "code",
   "execution_count": 9,
   "metadata": {},
   "outputs": [
    {
     "data": {
      "image/png": "[encoded data removed]",
      "text/plain": [
       "<Figure size 432x288 with 1 Axes>"
      ]
     },
     "metadata": {
      "needs_background": "light"
     },
     "output_type": "display_data"
    },
    {
     "data": {
      "image/png": "[encoded data removed]",
      "text/plain": [
       "<Figure size 432x288 with 1 Axes>"
      ]
     },
     "metadata": {
      "needs_background": "light"
     },
     "output_type": "display_data"
    },
    {
     "data": {
      "image/png": "[encoded data removed]",
      "text/plain": [
       "<Figure size 432x288 with 1 Axes>"
      ]
     },
     "metadata": {
      "needs_background": "light"
     },
     "output_type": "display_data"
    },
    {
     "data": {
      "image/png": "[encoded data removed]",
      "text/plain": [
       "<Figure size 432x288 with 1 Axes>"
      ]
     },
     "metadata": {
      "needs_background": "light"
     },
     "output_type": "display_data"
    },
    {
     "data": {
      "image/png": "[encoded data removed]",
      "text/plain": [
       "<Figure size 432x288 with 1 Axes>"
      ]
     },
     "metadata": {
      "needs_background": "light"
     },
     "output_type": "display_data"
    },
    {
     "data": {
      "image/png": "[encoded data removed]",
      "text/plain": [
       "<Figure size 432x288 with 1 Axes>"
      ]
     },
     "metadata": {
      "needs_background": "light"
     },
     "output_type": "display_data"
    },
    {
     "data": {
      "image/png": "[encoded data removed]",
      "text/plain": [
       "<Figure size 432x288 with 1 Axes>"
      ]
     },
     "metadata": {
      "needs_background": "light"
     },
     "output_type": "display_data"
    },
    {
     "data": {
      "image/png": "[encoded data removed]",
      "text/plain": [
       "<Figure size 432x288 with 1 Axes>"
      ]
     },
     "metadata": {
      "needs_background": "light"
     },
     "output_type": "display_data"
    },
    {
     "data": {
      "image/png": "[encoded data removed]",
      "text/plain": [
       "<Figure size 432x288 with 1 Axes>"
      ]
     },
     "metadata": {
      "needs_background": "light"
     },
     "output_type": "display_data"
    },
    {
     "data": {
      "image/png": "[encoded data removed]",
      "text/plain": [
       "<Figure size 432x288 with 1 Axes>"
      ]
     },
     "metadata": {
      "needs_background": "light"
     },
     "output_type": "display_data"
    }
   ],
   "source": [
    "for columnName in fullDat.columns:\n",
    "    if columnName == 'y':\n",
    "        pass\n",
    "    elif fullDat[columnName].dtype != object:\n",
    "        plt.figure()\n",
    "        plot = sns.boxplot(data = fullDat, x = 'y', y = columnName)"
   ]
  },
  {
   "cell_type": "markdown",
   "metadata": {},
   "source": [
    "Much like the categorical data, there does appear to be good spread across the various numeric features against the target. The \"previous\" and \"emp.var.rate\" features both appear to have some distributional differences."
   ]
  },
  {
   "cell_type": "markdown",
   "metadata": {},
   "source": [
    "### Get dummies for non-numeric data"
   ]
  },
  {
   "cell_type": "code",
   "execution_count": 10,
   "metadata": {},
   "outputs": [],
   "source": [
    "## Hold snapshot of data at this point for future reference\n",
    "hold_fullDat = fullDat.copy()"
   ]
  },
  {
   "cell_type": "code",
   "execution_count": 11,
   "metadata": {},
   "outputs": [],
   "source": [
    "## Convert categorical features\n",
    "convert = ['job', 'marital', 'education', 'housing', 'loan', 'contact', 'month', 'day_of_week', 'poutcome']\n",
    "fullDat = pd.get_dummies(fullDat, columns = convert, drop_first = True)\n",
    "fullDat.y = np.where(fullDat.y == 'yes', 1, 0)"
   ]
  },
  {
   "cell_type": "markdown",
   "metadata": {},
   "source": [
    "### Train test split"
   ]
  },
  {
   "cell_type": "markdown",
   "metadata": {},
   "source": [
    "Given the imbalanced nature of the target, the training and testing data will be stratified across the target, assuming that future data will hold this imbalance. Given there is relatively good volume, I will split the data 75/25."
   ]
  },
  {
   "cell_type": "code",
   "execution_count": 12,
   "metadata": {},
   "outputs": [],
   "source": [
    "X_train, X_test, y_train, y_test = train_test_split(fullDat.drop('y', axis = 1), fullDat.y,\n",
    "                                                    stratify = fullDat.y, \n",
    "                                                    random_state = 1029,\n",
    "                                                    test_size = 0.25)"
   ]
  },
  {
   "cell_type": "code",
   "execution_count": 13,
   "metadata": {},
   "outputs": [],
   "source": [
    "## Create dictionary to track model results\n",
    "results = {}\n",
    "\n",
    "def add_results(y_pred, model_name):\n",
    "    ## Add results of test data to tracker, with user input to ensure data is overwritten on purpose\n",
    "    if model_name in results.keys():\n",
    "        userIn = input(\"Model already in dictionary. Add? \").lower()\n",
    "        if userIn == 'yes':\n",
    "            results[model_name] = metrics.roc_auc_score(y_test, y_pred)\n",
    "        else:\n",
    "            pass\n",
    "    else:\n",
    "        results[model_name] = metrics.roc_auc_score(y_test, y_pred)\n",
    "    print(results)"
   ]
  },
  {
   "cell_type": "markdown",
   "metadata": {},
   "source": [
    "### Model Build - Logistic Model"
   ]
  },
  {
   "cell_type": "markdown",
   "metadata": {},
   "source": [
    "Begin with a simple logistic model to form a benchmark before moving on to more complicated model structures."
   ]
  },
  {
   "cell_type": "code",
   "execution_count": 14,
   "metadata": {},
   "outputs": [
    {
     "name": "stdout",
     "output_type": "stream",
     "text": [
      "Optimization terminated successfully.\n",
      "         Current function value: 0.207026\n",
      "         Iterations 8\n"
     ]
    }
   ],
   "source": [
    "base_model = sm.Logit(y_train, X_train).fit()"
   ]
  },
  {
   "cell_type": "code",
   "execution_count": 15,
   "metadata": {},
   "outputs": [
    {
     "name": "stdout",
     "output_type": "stream",
     "text": [
      "{'baseLM': 0.9347362750166999}\n"
     ]
    }
   ],
   "source": [
    "## Grab predictions for the positive class\n",
    "add_results(base_model.predict(X_test), \"baseLM\")"
   ]
  },
  {
   "cell_type": "code",
   "execution_count": 16,
   "metadata": {},
   "outputs": [
    {
     "data": {
      "text/html": [
       "<table class=\"simpletable\">\n",
       "<caption>Logit Regression Results</caption>\n",
       "<tr>\n",
       "  <th>Dep. Variable:</th>           <td>y</td>        <th>  No. Observations:  </th>  <td> 30891</td> \n",
       "</tr>\n",
       "<tr>\n",
       "  <th>Model:</th>                 <td>Logit</td>      <th>  Df Residuals:      </th>  <td> 30841</td> \n",
       "</tr>\n",
       "<tr>\n",
       "  <th>Method:</th>                 <td>MLE</td>       <th>  Df Model:          </th>  <td>    49</td> \n",
       "</tr>\n",
       "<tr>\n",
       "  <th>Date:</th>            <td>Sun, 15 Nov 2020</td> <th>  Pseudo R-squ.:     </th>  <td>0.4119</td> \n",
       "</tr>\n",
       "<tr>\n",
       "  <th>Time:</th>                <td>18:45:46</td>     <th>  Log-Likelihood:    </th> <td> -6395.3</td>\n",
       "</tr>\n",
       "<tr>\n",
       "  <th>converged:</th>             <td>True</td>       <th>  LL-Null:           </th> <td> -10875.</td>\n",
       "</tr>\n",
       "<tr>\n",
       "  <th>Covariance Type:</th>     <td>nonrobust</td>    <th>  LLR p-value:       </th>  <td> 0.000</td> \n",
       "</tr>\n",
       "</table>\n",
       "<table class=\"simpletable\">\n",
       "<tr>\n",
       "                <td></td>                   <th>coef</th>     <th>std err</th>      <th>z</th>      <th>P>|z|</th>  <th>[0.025</th>    <th>0.975]</th>  \n",
       "</tr>\n",
       "<tr>\n",
       "  <th>age</th>                           <td>    0.0003</td> <td>    0.004</td> <td>    0.082</td> <td> 0.934</td> <td>   -0.007</td> <td>    0.008</td>\n",
       "</tr>\n",
       "<tr>\n",
       "  <th>duration</th>                      <td>    0.0048</td> <td> 8.14e-05</td> <td>   58.488</td> <td> 0.000</td> <td>    0.005</td> <td>    0.005</td>\n",
       "</tr>\n",
       "<tr>\n",
       "  <th>campaign</th>                      <td>   -0.0518</td> <td>    0.013</td> <td>   -3.924</td> <td> 0.000</td> <td>   -0.078</td> <td>   -0.026</td>\n",
       "</tr>\n",
       "<tr>\n",
       "  <th>pdays</th>                         <td>   -0.0010</td> <td>    0.000</td> <td>   -4.077</td> <td> 0.000</td> <td>   -0.001</td> <td>   -0.001</td>\n",
       "</tr>\n",
       "<tr>\n",
       "  <th>previous</th>                      <td>   -0.0219</td> <td>    0.075</td> <td>   -0.291</td> <td> 0.771</td> <td>   -0.169</td> <td>    0.126</td>\n",
       "</tr>\n",
       "<tr>\n",
       "  <th>emp_var_rate</th>                  <td>   -1.1052</td> <td>    0.099</td> <td>  -11.115</td> <td> 0.000</td> <td>   -1.300</td> <td>   -0.910</td>\n",
       "</tr>\n",
       "<tr>\n",
       "  <th>cons_price_idx</th>                <td>    0.6755</td> <td>    0.048</td> <td>   14.018</td> <td> 0.000</td> <td>    0.581</td> <td>    0.770</td>\n",
       "</tr>\n",
       "<tr>\n",
       "  <th>cons_conf_idx</th>                 <td>   -0.0060</td> <td>    0.007</td> <td>   -0.865</td> <td> 0.387</td> <td>   -0.020</td> <td>    0.008</td>\n",
       "</tr>\n",
       "<tr>\n",
       "  <th>euribor3m</th>                     <td>    0.8175</td> <td>    0.124</td> <td>    6.607</td> <td> 0.000</td> <td>    0.575</td> <td>    1.060</td>\n",
       "</tr>\n",
       "<tr>\n",
       "  <th>nr_employed</th>                   <td>   -0.0135</td> <td>    0.001</td> <td>  -13.992</td> <td> 0.000</td> <td>   -0.015</td> <td>   -0.012</td>\n",
       "</tr>\n",
       "<tr>\n",
       "  <th>job_blue-collar</th>               <td>   -0.2471</td> <td>    0.092</td> <td>   -2.681</td> <td> 0.007</td> <td>   -0.428</td> <td>   -0.066</td>\n",
       "</tr>\n",
       "<tr>\n",
       "  <th>job_entrepreneur</th>              <td>   -0.0682</td> <td>    0.141</td> <td>   -0.484</td> <td> 0.629</td> <td>   -0.345</td> <td>    0.208</td>\n",
       "</tr>\n",
       "<tr>\n",
       "  <th>job_housemaid</th>                 <td>   -0.0793</td> <td>    0.178</td> <td>   -0.446</td> <td> 0.656</td> <td>   -0.428</td> <td>    0.269</td>\n",
       "</tr>\n",
       "<tr>\n",
       "  <th>job_management</th>                <td>   -0.1214</td> <td>    0.099</td> <td>   -1.220</td> <td> 0.222</td> <td>   -0.316</td> <td>    0.074</td>\n",
       "</tr>\n",
       "<tr>\n",
       "  <th>job_retired</th>                   <td>    0.2775</td> <td>    0.123</td> <td>    2.251</td> <td> 0.024</td> <td>    0.036</td> <td>    0.519</td>\n",
       "</tr>\n",
       "<tr>\n",
       "  <th>job_self-employed</th>             <td>   -0.2161</td> <td>    0.141</td> <td>   -1.529</td> <td> 0.126</td> <td>   -0.493</td> <td>    0.061</td>\n",
       "</tr>\n",
       "<tr>\n",
       "  <th>job_services</th>                  <td>   -0.1539</td> <td>    0.101</td> <td>   -1.532</td> <td> 0.126</td> <td>   -0.351</td> <td>    0.043</td>\n",
       "</tr>\n",
       "<tr>\n",
       "  <th>job_student</th>                   <td>    0.1453</td> <td>    0.128</td> <td>    1.137</td> <td> 0.256</td> <td>   -0.105</td> <td>    0.396</td>\n",
       "</tr>\n",
       "<tr>\n",
       "  <th>job_technician</th>                <td>   -0.0760</td> <td>    0.082</td> <td>   -0.925</td> <td> 0.355</td> <td>   -0.237</td> <td>    0.085</td>\n",
       "</tr>\n",
       "<tr>\n",
       "  <th>job_unemployed</th>                <td>   -0.1168</td> <td>    0.153</td> <td>   -0.763</td> <td> 0.445</td> <td>   -0.417</td> <td>    0.183</td>\n",
       "</tr>\n",
       "<tr>\n",
       "  <th>job_unknown</th>                   <td>   -0.1129</td> <td>    0.281</td> <td>   -0.402</td> <td> 0.688</td> <td>   -0.664</td> <td>    0.438</td>\n",
       "</tr>\n",
       "<tr>\n",
       "  <th>marital_married</th>               <td>   -0.0550</td> <td>    0.079</td> <td>   -0.701</td> <td> 0.483</td> <td>   -0.209</td> <td>    0.099</td>\n",
       "</tr>\n",
       "<tr>\n",
       "  <th>marital_single</th>                <td>    0.0161</td> <td>    0.090</td> <td>    0.179</td> <td> 0.858</td> <td>   -0.160</td> <td>    0.193</td>\n",
       "</tr>\n",
       "<tr>\n",
       "  <th>marital_unknown</th>               <td>    0.1095</td> <td>    0.468</td> <td>    0.234</td> <td> 0.815</td> <td>   -0.807</td> <td>    1.026</td>\n",
       "</tr>\n",
       "<tr>\n",
       "  <th>education_basic.6y</th>            <td>    0.0562</td> <td>    0.142</td> <td>    0.395</td> <td> 0.693</td> <td>   -0.223</td> <td>    0.335</td>\n",
       "</tr>\n",
       "<tr>\n",
       "  <th>education_basic.9y</th>            <td>    0.0583</td> <td>    0.110</td> <td>    0.531</td> <td> 0.596</td> <td>   -0.157</td> <td>    0.274</td>\n",
       "</tr>\n",
       "<tr>\n",
       "  <th>education_high.school</th>         <td>    0.1201</td> <td>    0.106</td> <td>    1.136</td> <td> 0.256</td> <td>   -0.087</td> <td>    0.327</td>\n",
       "</tr>\n",
       "<tr>\n",
       "  <th>education_illiterate</th>          <td>    1.5440</td> <td>    0.845</td> <td>    1.828</td> <td> 0.068</td> <td>   -0.112</td> <td>    3.200</td>\n",
       "</tr>\n",
       "<tr>\n",
       "  <th>education_professional.course</th> <td>    0.1877</td> <td>    0.117</td> <td>    1.609</td> <td> 0.108</td> <td>   -0.041</td> <td>    0.416</td>\n",
       "</tr>\n",
       "<tr>\n",
       "  <th>education_university.degree</th>   <td>    0.2416</td> <td>    0.106</td> <td>    2.276</td> <td> 0.023</td> <td>    0.034</td> <td>    0.450</td>\n",
       "</tr>\n",
       "<tr>\n",
       "  <th>education_unknown</th>             <td>    0.1964</td> <td>    0.139</td> <td>    1.417</td> <td> 0.157</td> <td>   -0.075</td> <td>    0.468</td>\n",
       "</tr>\n",
       "<tr>\n",
       "  <th>housing_unknown</th>               <td>   -0.0437</td> <td> 2.53e+16</td> <td>-1.72e-18</td> <td> 1.000</td> <td>-4.97e+16</td> <td> 4.97e+16</td>\n",
       "</tr>\n",
       "<tr>\n",
       "  <th>housing_yes</th>                   <td>   -0.0006</td> <td>    0.053</td> <td>   -0.011</td> <td> 0.991</td> <td>   -0.104</td> <td>    0.103</td>\n",
       "</tr>\n",
       "<tr>\n",
       "  <th>loan_unknown</th>                  <td>   -0.0437</td> <td> 2.53e+16</td> <td>-1.72e-18</td> <td> 1.000</td> <td>-4.97e+16</td> <td> 4.97e+16</td>\n",
       "</tr>\n",
       "<tr>\n",
       "  <th>loan_yes</th>                      <td>   -0.0553</td> <td>    0.024</td> <td>   -2.291</td> <td> 0.022</td> <td>   -0.103</td> <td>   -0.008</td>\n",
       "</tr>\n",
       "<tr>\n",
       "  <th>contact_telephone</th>             <td>   -0.4833</td> <td>    0.082</td> <td>   -5.865</td> <td> 0.000</td> <td>   -0.645</td> <td>   -0.322</td>\n",
       "</tr>\n",
       "<tr>\n",
       "  <th>month_aug</th>                     <td>    0.4421</td> <td>    0.118</td> <td>    3.757</td> <td> 0.000</td> <td>    0.211</td> <td>    0.673</td>\n",
       "</tr>\n",
       "<tr>\n",
       "  <th>month_dec</th>                     <td>   -0.2269</td> <td>    0.223</td> <td>   -1.019</td> <td> 0.308</td> <td>   -0.663</td> <td>    0.210</td>\n",
       "</tr>\n",
       "<tr>\n",
       "  <th>month_jul</th>                     <td>    0.2026</td> <td>    0.104</td> <td>    1.942</td> <td> 0.052</td> <td>   -0.002</td> <td>    0.407</td>\n",
       "</tr>\n",
       "<tr>\n",
       "  <th>month_jun</th>                     <td>   -0.0856</td> <td>    0.111</td> <td>   -0.772</td> <td> 0.440</td> <td>   -0.303</td> <td>    0.132</td>\n",
       "</tr>\n",
       "<tr>\n",
       "  <th>month_mar</th>                     <td>    1.5097</td> <td>    0.132</td> <td>   11.463</td> <td> 0.000</td> <td>    1.252</td> <td>    1.768</td>\n",
       "</tr>\n",
       "<tr>\n",
       "  <th>month_may</th>                     <td>   -0.6547</td> <td>    0.086</td> <td>   -7.649</td> <td> 0.000</td> <td>   -0.822</td> <td>   -0.487</td>\n",
       "</tr>\n",
       "<tr>\n",
       "  <th>month_nov</th>                     <td>   -0.6427</td> <td>    0.122</td> <td>   -5.287</td> <td> 0.000</td> <td>   -0.881</td> <td>   -0.404</td>\n",
       "</tr>\n",
       "<tr>\n",
       "  <th>month_oct</th>                     <td>   -0.2950</td> <td>    0.148</td> <td>   -1.999</td> <td> 0.046</td> <td>   -0.584</td> <td>   -0.006</td>\n",
       "</tr>\n",
       "<tr>\n",
       "  <th>month_sep</th>                     <td>   -0.2395</td> <td>    0.153</td> <td>   -1.567</td> <td> 0.117</td> <td>   -0.539</td> <td>    0.060</td>\n",
       "</tr>\n",
       "<tr>\n",
       "  <th>day_of_week_mon</th>               <td>   -0.1488</td> <td>    0.076</td> <td>   -1.951</td> <td> 0.051</td> <td>   -0.298</td> <td>    0.001</td>\n",
       "</tr>\n",
       "<tr>\n",
       "  <th>day_of_week_thu</th>               <td>    0.0250</td> <td>    0.074</td> <td>    0.339</td> <td> 0.735</td> <td>   -0.119</td> <td>    0.169</td>\n",
       "</tr>\n",
       "<tr>\n",
       "  <th>day_of_week_tue</th>               <td>    0.0442</td> <td>    0.076</td> <td>    0.579</td> <td> 0.563</td> <td>   -0.106</td> <td>    0.194</td>\n",
       "</tr>\n",
       "<tr>\n",
       "  <th>day_of_week_wed</th>               <td>    0.1138</td> <td>    0.075</td> <td>    1.518</td> <td> 0.129</td> <td>   -0.033</td> <td>    0.261</td>\n",
       "</tr>\n",
       "<tr>\n",
       "  <th>poutcome_nonexistent</th>          <td>    0.4721</td> <td>    0.108</td> <td>    4.388</td> <td> 0.000</td> <td>    0.261</td> <td>    0.683</td>\n",
       "</tr>\n",
       "<tr>\n",
       "  <th>poutcome_success</th>              <td>    0.8952</td> <td>    0.248</td> <td>    3.608</td> <td> 0.000</td> <td>    0.409</td> <td>    1.381</td>\n",
       "</tr>\n",
       "</table>"
      ],
      "text/plain": [
       "<class 'statsmodels.iolib.summary.Summary'>\n",
       "\"\"\"\n",
       "                           Logit Regression Results                           \n",
       "==============================================================================\n",
       "Dep. Variable:                      y   No. Observations:                30891\n",
       "Model:                          Logit   Df Residuals:                    30841\n",
       "Method:                           MLE   Df Model:                           49\n",
       "Date:                Sun, 15 Nov 2020   Pseudo R-squ.:                  0.4119\n",
       "Time:                        18:45:46   Log-Likelihood:                -6395.3\n",
       "converged:                       True   LL-Null:                       -10875.\n",
       "Covariance Type:            nonrobust   LLR p-value:                     0.000\n",
       "=================================================================================================\n",
       "                                    coef    std err          z      P>|z|      [0.025      0.975]\n",
       "-------------------------------------------------------------------------------------------------\n",
       "age                               0.0003      0.004      0.082      0.934      -0.007       0.008\n",
       "duration                          0.0048   8.14e-05     58.488      0.000       0.005       0.005\n",
       "campaign                         -0.0518      0.013     -3.924      0.000      -0.078      -0.026\n",
       "pdays                            -0.0010      0.000     -4.077      0.000      -0.001      -0.001\n",
       "previous                         -0.0219      0.075     -0.291      0.771      -0.169       0.126\n",
       "emp_var_rate                     -1.1052      0.099    -11.115      0.000      -1.300      -0.910\n",
       "cons_price_idx                    0.6755      0.048     14.018      0.000       0.581       0.770\n",
       "cons_conf_idx                    -0.0060      0.007     -0.865      0.387      -0.020       0.008\n",
       "euribor3m                         0.8175      0.124      6.607      0.000       0.575       1.060\n",
       "nr_employed                      -0.0135      0.001    -13.992      0.000      -0.015      -0.012\n",
       "job_blue-collar                  -0.2471      0.092     -2.681      0.007      -0.428      -0.066\n",
       "job_entrepreneur                 -0.0682      0.141     -0.484      0.629      -0.345       0.208\n",
       "job_housemaid                    -0.0793      0.178     -0.446      0.656      -0.428       0.269\n",
       "job_management                   -0.1214      0.099     -1.220      0.222      -0.316       0.074\n",
       "job_retired                       0.2775      0.123      2.251      0.024       0.036       0.519\n",
       "job_self-employed                -0.2161      0.141     -1.529      0.126      -0.493       0.061\n",
       "job_services                     -0.1539      0.101     -1.532      0.126      -0.351       0.043\n",
       "job_student                       0.1453      0.128      1.137      0.256      -0.105       0.396\n",
       "job_technician                   -0.0760      0.082     -0.925      0.355      -0.237       0.085\n",
       "job_unemployed                   -0.1168      0.153     -0.763      0.445      -0.417       0.183\n",
       "job_unknown                      -0.1129      0.281     -0.402      0.688      -0.664       0.438\n",
       "marital_married                  -0.0550      0.079     -0.701      0.483      -0.209       0.099\n",
       "marital_single                    0.0161      0.090      0.179      0.858      -0.160       0.193\n",
       "marital_unknown                   0.1095      0.468      0.234      0.815      -0.807       1.026\n",
       "education_basic.6y                0.0562      0.142      0.395      0.693      -0.223       0.335\n",
       "education_basic.9y                0.0583      0.110      0.531      0.596      -0.157       0.274\n",
       "education_high.school             0.1201      0.106      1.136      0.256      -0.087       0.327\n",
       "education_illiterate              1.5440      0.845      1.828      0.068      -0.112       3.200\n",
       "education_professional.course     0.1877      0.117      1.609      0.108      -0.041       0.416\n",
       "education_university.degree       0.2416      0.106      2.276      0.023       0.034       0.450\n",
       "education_unknown                 0.1964      0.139      1.417      0.157      -0.075       0.468\n",
       "housing_unknown                  -0.0437   2.53e+16  -1.72e-18      1.000   -4.97e+16    4.97e+16\n",
       "housing_yes                      -0.0006      0.053     -0.011      0.991      -0.104       0.103\n",
       "loan_unknown                     -0.0437   2.53e+16  -1.72e-18      1.000   -4.97e+16    4.97e+16\n",
       "loan_yes                         -0.0553      0.024     -2.291      0.022      -0.103      -0.008\n",
       "contact_telephone                -0.4833      0.082     -5.865      0.000      -0.645      -0.322\n",
       "month_aug                         0.4421      0.118      3.757      0.000       0.211       0.673\n",
       "month_dec                        -0.2269      0.223     -1.019      0.308      -0.663       0.210\n",
       "month_jul                         0.2026      0.104      1.942      0.052      -0.002       0.407\n",
       "month_jun                        -0.0856      0.111     -0.772      0.440      -0.303       0.132\n",
       "month_mar                         1.5097      0.132     11.463      0.000       1.252       1.768\n",
       "month_may                        -0.6547      0.086     -7.649      0.000      -0.822      -0.487\n",
       "month_nov                        -0.6427      0.122     -5.287      0.000      -0.881      -0.404\n",
       "month_oct                        -0.2950      0.148     -1.999      0.046      -0.584      -0.006\n",
       "month_sep                        -0.2395      0.153     -1.567      0.117      -0.539       0.060\n",
       "day_of_week_mon                  -0.1488      0.076     -1.951      0.051      -0.298       0.001\n",
       "day_of_week_thu                   0.0250      0.074      0.339      0.735      -0.119       0.169\n",
       "day_of_week_tue                   0.0442      0.076      0.579      0.563      -0.106       0.194\n",
       "day_of_week_wed                   0.1138      0.075      1.518      0.129      -0.033       0.261\n",
       "poutcome_nonexistent              0.4721      0.108      4.388      0.000       0.261       0.683\n",
       "poutcome_success                  0.8952      0.248      3.608      0.000       0.409       1.381\n",
       "=================================================================================================\n",
       "\"\"\""
      ]
     },
     "execution_count": 16,
     "metadata": {},
     "output_type": "execute_result"
    }
   ],
   "source": [
    "base_model.summary()"
   ]
  },
  {
   "cell_type": "markdown",
   "metadata": {},
   "source": [
    "### Model Build - Logistic Model - Drop Insignficant"
   ]
  },
  {
   "cell_type": "markdown",
   "metadata": {},
   "source": [
    "In the event of overfitting, test the impact of removing insignificant features from the model."
   ]
  },
  {
   "cell_type": "code",
   "execution_count": 17,
   "metadata": {},
   "outputs": [],
   "source": [
    "## Dropping any features that are fully insignficant then iterating until all features are signficant. \n",
    "## Using a manual, iterative approach - using 0.05 p-value as threshold\n",
    "drop_vars = ['age', 'previous', 'housing_unknown', 'loan_unknown', 'day_of_week_wed', 'housing_yes',\n",
    "            'cons_conf_idx', 'marital_married', 'marital_single', 'marital_unknown', 'day_of_week_tue',\n",
    "            'day_of_week_thu', 'education_basic.6y', 'education_basic.9y', 'loan_yes', 'education_unknown',\n",
    "            'education_professional.course', 'job_unknown', 'month_jun', 'month_dec', 'job_technician',\n",
    "            'job_entrepreneur', 'education_high.school', 'job_housemaid', 'job_management', 'job_services',\n",
    "            'job_unemployed', 'education_illiterate', 'job_self-employed', 'month_sep', 'month_oct']"
   ]
  },
  {
   "cell_type": "code",
   "execution_count": 18,
   "metadata": {},
   "outputs": [],
   "source": [
    "drop_dat = fullDat.drop(drop_vars, axis = 1)"
   ]
  },
  {
   "cell_type": "code",
   "execution_count": 19,
   "metadata": {},
   "outputs": [],
   "source": [
    "X_train, X_test, y_train, y_test = train_test_split(drop_dat.drop('y', axis = 1), drop_dat.y,\n",
    "                                                    stratify = drop_dat.y, \n",
    "                                                    random_state = 1029,\n",
    "                                                    test_size = 0.25)"
   ]
  },
  {
   "cell_type": "code",
   "execution_count": 20,
   "metadata": {},
   "outputs": [
    {
     "name": "stdout",
     "output_type": "stream",
     "text": [
      "Optimization terminated successfully.\n",
      "         Current function value: 0.207436\n",
      "         Iterations 8\n"
     ]
    },
    {
     "data": {
      "text/html": [
       "<table class=\"simpletable\">\n",
       "<caption>Logit Regression Results</caption>\n",
       "<tr>\n",
       "  <th>Dep. Variable:</th>           <td>y</td>        <th>  No. Observations:  </th>  <td> 30891</td> \n",
       "</tr>\n",
       "<tr>\n",
       "  <th>Model:</th>                 <td>Logit</td>      <th>  Df Residuals:      </th>  <td> 30871</td> \n",
       "</tr>\n",
       "<tr>\n",
       "  <th>Method:</th>                 <td>MLE</td>       <th>  Df Model:          </th>  <td>    19</td> \n",
       "</tr>\n",
       "<tr>\n",
       "  <th>Date:</th>            <td>Sun, 15 Nov 2020</td> <th>  Pseudo R-squ.:     </th>  <td>0.4107</td> \n",
       "</tr>\n",
       "<tr>\n",
       "  <th>Time:</th>                <td>18:45:47</td>     <th>  Log-Likelihood:    </th> <td> -6407.9</td>\n",
       "</tr>\n",
       "<tr>\n",
       "  <th>converged:</th>             <td>True</td>       <th>  LL-Null:           </th> <td> -10875.</td>\n",
       "</tr>\n",
       "<tr>\n",
       "  <th>Covariance Type:</th>     <td>nonrobust</td>    <th>  LLR p-value:       </th>  <td> 0.000</td> \n",
       "</tr>\n",
       "</table>\n",
       "<table class=\"simpletable\">\n",
       "<tr>\n",
       "               <td></td>                  <th>coef</th>     <th>std err</th>      <th>z</th>      <th>P>|z|</th>  <th>[0.025</th>    <th>0.975]</th>  \n",
       "</tr>\n",
       "<tr>\n",
       "  <th>duration</th>                    <td>    0.0048</td> <td> 8.62e-05</td> <td>   55.146</td> <td> 0.000</td> <td>    0.005</td> <td>    0.005</td>\n",
       "</tr>\n",
       "<tr>\n",
       "  <th>campaign</th>                    <td>   -0.0534</td> <td>    0.014</td> <td>   -3.916</td> <td> 0.000</td> <td>   -0.080</td> <td>   -0.027</td>\n",
       "</tr>\n",
       "<tr>\n",
       "  <th>pdays</th>                       <td>   -0.0010</td> <td>    0.000</td> <td>   -4.024</td> <td> 0.000</td> <td>   -0.001</td> <td>   -0.000</td>\n",
       "</tr>\n",
       "<tr>\n",
       "  <th>emp_var_rate</th>                <td>   -0.9539</td> <td>    0.067</td> <td>  -14.207</td> <td> 0.000</td> <td>   -1.086</td> <td>   -0.822</td>\n",
       "</tr>\n",
       "<tr>\n",
       "  <th>cons_price_idx</th>              <td>    0.6026</td> <td>    0.035</td> <td>   17.057</td> <td> 0.000</td> <td>    0.533</td> <td>    0.672</td>\n",
       "</tr>\n",
       "<tr>\n",
       "  <th>euribor3m</th>                   <td>    0.6326</td> <td>    0.082</td> <td>    7.712</td> <td> 0.000</td> <td>    0.472</td> <td>    0.793</td>\n",
       "</tr>\n",
       "<tr>\n",
       "  <th>nr_employed</th>                 <td>   -0.0120</td> <td>    0.001</td> <td>  -17.372</td> <td> 0.000</td> <td>   -0.013</td> <td>   -0.011</td>\n",
       "</tr>\n",
       "<tr>\n",
       "  <th>job_blue-collar</th>             <td>   -0.2267</td> <td>    0.070</td> <td>   -3.253</td> <td> 0.001</td> <td>   -0.363</td> <td>   -0.090</td>\n",
       "</tr>\n",
       "<tr>\n",
       "  <th>job_retired</th>                 <td>    0.2875</td> <td>    0.092</td> <td>    3.118</td> <td> 0.002</td> <td>    0.107</td> <td>    0.468</td>\n",
       "</tr>\n",
       "<tr>\n",
       "  <th>job_student</th>                 <td>    0.2442</td> <td>    0.114</td> <td>    2.151</td> <td> 0.031</td> <td>    0.022</td> <td>    0.467</td>\n",
       "</tr>\n",
       "<tr>\n",
       "  <th>education_university.degree</th> <td>    0.1409</td> <td>    0.053</td> <td>    2.651</td> <td> 0.008</td> <td>    0.037</td> <td>    0.245</td>\n",
       "</tr>\n",
       "<tr>\n",
       "  <th>contact_telephone</th>           <td>   -0.4473</td> <td>    0.078</td> <td>   -5.747</td> <td> 0.000</td> <td>   -0.600</td> <td>   -0.295</td>\n",
       "</tr>\n",
       "<tr>\n",
       "  <th>month_aug</th>                   <td>    0.4789</td> <td>    0.083</td> <td>    5.781</td> <td> 0.000</td> <td>    0.317</td> <td>    0.641</td>\n",
       "</tr>\n",
       "<tr>\n",
       "  <th>month_jul</th>                   <td>    0.2992</td> <td>    0.086</td> <td>    3.493</td> <td> 0.000</td> <td>    0.131</td> <td>    0.467</td>\n",
       "</tr>\n",
       "<tr>\n",
       "  <th>month_mar</th>                   <td>    1.5848</td> <td>    0.123</td> <td>   12.878</td> <td> 0.000</td> <td>    1.344</td> <td>    1.826</td>\n",
       "</tr>\n",
       "<tr>\n",
       "  <th>month_may</th>                   <td>   -0.6035</td> <td>    0.070</td> <td>   -8.569</td> <td> 0.000</td> <td>   -0.742</td> <td>   -0.465</td>\n",
       "</tr>\n",
       "<tr>\n",
       "  <th>month_nov</th>                   <td>   -0.4748</td> <td>    0.094</td> <td>   -5.032</td> <td> 0.000</td> <td>   -0.660</td> <td>   -0.290</td>\n",
       "</tr>\n",
       "<tr>\n",
       "  <th>day_of_week_mon</th>             <td>   -0.1907</td> <td>    0.059</td> <td>   -3.224</td> <td> 0.001</td> <td>   -0.307</td> <td>   -0.075</td>\n",
       "</tr>\n",
       "<tr>\n",
       "  <th>poutcome_nonexistent</th>        <td>    0.5070</td> <td>    0.074</td> <td>    6.845</td> <td> 0.000</td> <td>    0.362</td> <td>    0.652</td>\n",
       "</tr>\n",
       "<tr>\n",
       "  <th>poutcome_success</th>            <td>    0.9152</td> <td>    0.240</td> <td>    3.821</td> <td> 0.000</td> <td>    0.446</td> <td>    1.385</td>\n",
       "</tr>\n",
       "</table>"
      ],
      "text/plain": [
       "<class 'statsmodels.iolib.summary.Summary'>\n",
       "\"\"\"\n",
       "                           Logit Regression Results                           \n",
       "==============================================================================\n",
       "Dep. Variable:                      y   No. Observations:                30891\n",
       "Model:                          Logit   Df Residuals:                    30871\n",
       "Method:                           MLE   Df Model:                           19\n",
       "Date:                Sun, 15 Nov 2020   Pseudo R-squ.:                  0.4107\n",
       "Time:                        18:45:47   Log-Likelihood:                -6407.9\n",
       "converged:                       True   LL-Null:                       -10875.\n",
       "Covariance Type:            nonrobust   LLR p-value:                     0.000\n",
       "===============================================================================================\n",
       "                                  coef    std err          z      P>|z|      [0.025      0.975]\n",
       "-----------------------------------------------------------------------------------------------\n",
       "duration                        0.0048   8.62e-05     55.146      0.000       0.005       0.005\n",
       "campaign                       -0.0534      0.014     -3.916      0.000      -0.080      -0.027\n",
       "pdays                          -0.0010      0.000     -4.024      0.000      -0.001      -0.000\n",
       "emp_var_rate                   -0.9539      0.067    -14.207      0.000      -1.086      -0.822\n",
       "cons_price_idx                  0.6026      0.035     17.057      0.000       0.533       0.672\n",
       "euribor3m                       0.6326      0.082      7.712      0.000       0.472       0.793\n",
       "nr_employed                    -0.0120      0.001    -17.372      0.000      -0.013      -0.011\n",
       "job_blue-collar                -0.2267      0.070     -3.253      0.001      -0.363      -0.090\n",
       "job_retired                     0.2875      0.092      3.118      0.002       0.107       0.468\n",
       "job_student                     0.2442      0.114      2.151      0.031       0.022       0.467\n",
       "education_university.degree     0.1409      0.053      2.651      0.008       0.037       0.245\n",
       "contact_telephone              -0.4473      0.078     -5.747      0.000      -0.600      -0.295\n",
       "month_aug                       0.4789      0.083      5.781      0.000       0.317       0.641\n",
       "month_jul                       0.2992      0.086      3.493      0.000       0.131       0.467\n",
       "month_mar                       1.5848      0.123     12.878      0.000       1.344       1.826\n",
       "month_may                      -0.6035      0.070     -8.569      0.000      -0.742      -0.465\n",
       "month_nov                      -0.4748      0.094     -5.032      0.000      -0.660      -0.290\n",
       "day_of_week_mon                -0.1907      0.059     -3.224      0.001      -0.307      -0.075\n",
       "poutcome_nonexistent            0.5070      0.074      6.845      0.000       0.362       0.652\n",
       "poutcome_success                0.9152      0.240      3.821      0.000       0.446       1.385\n",
       "===============================================================================================\n",
       "\"\"\""
      ]
     },
     "execution_count": 20,
     "metadata": {},
     "output_type": "execute_result"
    }
   ],
   "source": [
    "model_iter = sm.Logit(y_train, X_train).fit()\n",
    "model_iter.summary()"
   ]
  },
  {
   "cell_type": "code",
   "execution_count": 21,
   "metadata": {},
   "outputs": [
    {
     "name": "stdout",
     "output_type": "stream",
     "text": [
      "{'baseLM': 0.9347362750166999, 'reductedLM': 0.9345776267770679}\n"
     ]
    }
   ],
   "source": [
    "add_results(model_iter.predict(X_test), \"reductedLM\")\n",
    "## Small performance decrease from the reduced model but this is expected given we are offering fewer parameters"
   ]
  },
  {
   "cell_type": "markdown",
   "metadata": {},
   "source": [
    "### LASSO Model"
   ]
  },
  {
   "cell_type": "markdown",
   "metadata": {},
   "source": [
    "Test the difference between the final model and a LASSO regression. "
   ]
  },
  {
   "cell_type": "code",
   "execution_count": 22,
   "metadata": {},
   "outputs": [],
   "source": [
    "X_train, X_test, y_train, y_test = train_test_split(fullDat.drop('y', axis = 1), fullDat.y,\n",
    "                                                    stratify = fullDat.y, \n",
    "                                                    random_state = 1029,\n",
    "                                                    test_size = 0.25)"
   ]
  },
  {
   "cell_type": "code",
   "execution_count": 23,
   "metadata": {},
   "outputs": [
    {
     "name": "stderr",
     "output_type": "stream",
     "text": [
      "/opt/anaconda3/lib/python3.7/site-packages/statsmodels/discrete/discrete_model.py:1747: RuntimeWarning: overflow encountered in exp\n",
      "  return 1/(1+np.exp(-X))\n",
      "/opt/anaconda3/lib/python3.7/site-packages/statsmodels/discrete/discrete_model.py:1800: RuntimeWarning: divide by zero encountered in log\n",
      "  return np.sum(np.log(self.cdf(q*np.dot(X,params))))\n"
     ]
    },
    {
     "name": "stdout",
     "output_type": "stream",
     "text": [
      "Optimization terminated successfully.    (Exit mode 0)\n",
      "            Current function value: 0.20702649281933647\n",
      "            Iterations: 281\n",
      "            Function evaluations: 301\n",
      "            Gradient evaluations: 281\n"
     ]
    }
   ],
   "source": [
    "regularizedLogit = sm.Logit(y_train, X_train).fit_regularized()"
   ]
  },
  {
   "cell_type": "code",
   "execution_count": 24,
   "metadata": {},
   "outputs": [
    {
     "name": "stdout",
     "output_type": "stream",
     "text": [
      "{'baseLM': 0.9347362750166999, 'reductedLM': 0.9345776267770679, 'LASSO': 0.9347372185090558}\n"
     ]
    }
   ],
   "source": [
    "add_results(regularizedLogit.predict(X_test), \"LASSO\")\n",
    "## Slight improvement from the LASSO model"
   ]
  },
  {
   "cell_type": "markdown",
   "metadata": {},
   "source": [
    "### XGBoost Model - Base"
   ]
  },
  {
   "cell_type": "markdown",
   "metadata": {},
   "source": [
    "Run data through a base XGBoost model prior to hyper parameter tuning. Using `scale_pos_weight` to account for the imbalance in classes"
   ]
  },
  {
   "cell_type": "code",
   "execution_count": 25,
   "metadata": {},
   "outputs": [],
   "source": [
    "XGBClassify = xgb.XGBClassifier(objective = 'binary:logistic', max_depth = 3, eta = .02, n_estimators = 100, \n",
    "                                seed = 100, eval_metric = 'auc',\n",
    "                                scale_pos_weight = (len(y_train) - y_train.sum())/y_train.sum()).fit(X_train, \n",
    "                                                                                                     y_train)\n"
   ]
  },
  {
   "cell_type": "code",
   "execution_count": 26,
   "metadata": {},
   "outputs": [
    {
     "name": "stdout",
     "output_type": "stream",
     "text": [
      "{'baseLM': 0.9347362750166999, 'reductedLM': 0.9345776267770679, 'LASSO': 0.9347372185090558, 'XGB_Base': 0.9366257599830926}\n"
     ]
    }
   ],
   "source": [
    "add_results(XGBClassify.predict_proba(X_test)[:,1], \"XGB_Base\")"
   ]
  },
  {
   "cell_type": "code",
   "execution_count": 27,
   "metadata": {},
   "outputs": [
    {
     "data": {
      "text/plain": [
       "<matplotlib.axes._subplots.AxesSubplot at 0x7fd10718e310>"
      ]
     },
     "execution_count": 27,
     "metadata": {},
     "output_type": "execute_result"
    },
    {
     "data": {
      "image/png": "[encoded data removed]",
      "text/plain": [
       "<Figure size 432x288 with 1 Axes>"
      ]
     },
     "metadata": {
      "needs_background": "light"
     },
     "output_type": "display_data"
    }
   ],
   "source": [
    "xgb.plot_importance(XGBClassify)"
   ]
  },
  {
   "cell_type": "markdown",
   "metadata": {},
   "source": [
    "### Hypertuning the XGBoost model"
   ]
  },
  {
   "cell_type": "markdown",
   "metadata": {},
   "source": [
    "Relaying on https://www.analyticsvidhya.com/blog/2016/03/complete-guide-parameter-tuning-xgboost-with-codes-python/ for a Python implementation of the hyperparameter grid search that I'm familiar with in R's `mlr` package."
   ]
  },
  {
   "cell_type": "code",
   "execution_count": 29,
   "metadata": {},
   "outputs": [
    {
     "name": "stderr",
     "output_type": "stream",
     "text": [
      "/opt/anaconda3/lib/python3.7/site-packages/sklearn/model_selection/_search.py:823: FutureWarning: The parameter 'iid' is deprecated in 0.22 and will be removed in 0.24.\n",
      "  \"removed in 0.24.\", FutureWarning\n"
     ]
    },
    {
     "data": {
      "text/plain": [
       "XGBClassifier(base_score=0.5, booster='gbtree', colsample_bylevel=1,\n",
       "              colsample_bynode=1, colsample_bytree=1, eta=0.02, gamma=0,\n",
       "              gpu_id=-1, importance_type='gain', interaction_constraints='',\n",
       "              learning_rate=0.0199999996, max_delta_step=0, max_depth=4,\n",
       "              min_child_weight=1, missing=nan, monotone_constraints='()',\n",
       "              n_estimators=100, n_jobs=0, num_parallel_tree=1,\n",
       "              objective='binary:logistic', random_state=100, reg_alpha=0,\n",
       "              reg_lambda=1, scale_pos_weight=7.876724137931035, seed=100,\n",
       "              subsample=0.75, tree_method='exact', validate_parameters=1,\n",
       "              verbosity=None)"
      ]
     },
     "execution_count": 29,
     "metadata": {},
     "output_type": "execute_result"
    }
   ],
   "source": [
    "param_test = {\n",
    " 'max_depth':range(2,5,1),\n",
    " 'min_child_weight':range(1,10,2),\n",
    " 'subsample':[i/100.0 for i in range(75,90,5)]\n",
    "}\n",
    "gsearch1 = GridSearchCV(estimator = xgb.XGBClassifier(objective = 'binary:logistic', eta = .02, \n",
    "                                                  n_estimators = 100, \n",
    "                                seed = 100, \n",
    "                                scale_pos_weight = (len(y_train) - y_train.sum())/y_train.sum()), \n",
    " param_grid = param_test, scoring = 'roc_auc', iid = False, cv = 5)\n",
    "gsearch1.fit(X_train, y_train)\n",
    "gsearch1.best_estimator_"
   ]
  },
  {
   "cell_type": "code",
   "execution_count": 30,
   "metadata": {},
   "outputs": [],
   "source": [
    "## Select final number of estimators\n",
    "params = {'eta': 0.02, 'seed': 100, 'scale_pos_weight':(len(y_train) - y_train.sum())/y_train.sum(),\n",
    "         'max_depth': 4, 'min_child_weight': 1, 'subsample': 0.75, 'objective': 'binary:logistic',\n",
    "          'eval_metric': 'auc'}\n",
    "\n",
    "\n",
    "CVRun = xgb.cv(\n",
    "            params = params,\n",
    "            dtrain = xgb.DMatrix(X_train, label = y_train),\n",
    "            num_boost_round = 500,\n",
    "            nfold = 5,\n",
    "            metrics = 'auc',\n",
    "            seed = 100)\n"
   ]
  },
  {
   "cell_type": "code",
   "execution_count": 31,
   "metadata": {},
   "outputs": [
    {
     "data": {
      "text/plain": [
       "<matplotlib.axes._subplots.AxesSubplot at 0x7fd123358a50>"
      ]
     },
     "execution_count": 31,
     "metadata": {},
     "output_type": "execute_result"
    },
    {
     "data": {
      "image/png": "[encoded data removed]",
      "text/plain": [
       "<Figure size 720x360 with 1 Axes>"
      ]
     },
     "metadata": {
      "needs_background": "light"
     },
     "output_type": "display_data"
    }
   ],
   "source": [
    "CVRun.drop(['train-auc-std', 'test-auc-std'], axis = 1, inplace = True)\n",
    "CVRun.plot(figsize = (10,5), grid = True)"
   ]
  },
  {
   "cell_type": "code",
   "execution_count": 32,
   "metadata": {},
   "outputs": [],
   "source": [
    "## Selected 400 as the number of rounds to avoid over fitting\n",
    "XGB_hyperparam = xgb.train(params, xgb.DMatrix(X_train, label = y_train), 400)"
   ]
  },
  {
   "cell_type": "code",
   "execution_count": 33,
   "metadata": {},
   "outputs": [
    {
     "name": "stdout",
     "output_type": "stream",
     "text": [
      "{'baseLM': 0.9347362750166999, 'reductedLM': 0.9345776267770679, 'LASSO': 0.9347372185090558, 'XGB_Base': 0.9366257599830926, 'XGB_Hyperparam': 0.9486426918969102}\n"
     ]
    }
   ],
   "source": [
    "add_results(XGB_hyperparam.predict(xgb.DMatrix(X_test)), \"XGB_Hyperparam\")"
   ]
  },
  {
   "cell_type": "markdown",
   "metadata": {},
   "source": [
    "### Takeaways"
   ]
  },
  {
   "cell_type": "markdown",
   "metadata": {},
   "source": [
    "The more complex model does provide a better fit when compared to the base logistic model, even LASSO. Hyperparameter tuning was quite important, likely as a result of not selecting an optimal number of rounds in the base XGB model.\n",
    "\n",
    "Next steps when I revisit this project would be to examine the impact on the XGBoost model structure when adding some interpolation (maybe `MICE`) techniques to the unknown data. I would also want to examine the performance using Random Forest, SVM and a Sequential model."
   ]
  }
 ],
 "metadata": {
  "kernelspec": {
   "display_name": "Python 3",
   "language": "python",
   "name": "python3"
  },
  "language_info": {
   "codemirror_mode": {
    "name": "ipython",
    "version": 3
   },
   "file_extension": ".py",
   "mimetype": "text/x-python",
   "name": "python",
   "nbconvert_exporter": "python",
   "pygments_lexer": "ipython3",
   "version": "3.7.6"
  }
 },
 "nbformat": 4,
 "nbformat_minor": 4
}
