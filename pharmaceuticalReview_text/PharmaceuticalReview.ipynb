{
 "cells": [
  {
   "cell_type": "markdown",
   "metadata": {},
   "source": [
    "# Pharmaceutical Text Review"
   ]
  },
  {
   "cell_type": "markdown",
   "metadata": {},
   "source": [
    "### Background"
   ]
  },
  {
   "cell_type": "markdown",
   "metadata": {},
   "source": [
    "The intent of this excercise is ultimately to predict the review score of a drug review based on the user's freeform review. While going through this process, I will also conduct a sentiment analysis (reviewing both the true sentiment of the review as well as the user-prescribed sentiment). The data is provided already split in 75/25 train/test split\n",
    "\n",
    "In addition, the following data dictionary was provided with the dataset (with formatting edits):\n",
    "\n",
    "#### Attribute Information:\n",
    "1. drugName (categorical): name of drug \n",
    "2. condition (categorical): name of condition \n",
    "3. review (text): patient review \n",
    "4. rating (numerical): 10 star patient rating \n",
    "5. date (date): date of review entry \n",
    "6. usefulCount (numerical): number of users who found review useful\n",
    "\n",
    "\n",
    "Citation to the original data is below:\n",
    "Felix Gräßer, Surya Kallumadi, Hagen Malberg, and Sebastian Zaunseder. 2018. Aspect-Based Sentiment Analysis of Drug Reviews Applying Cross-Domain and Cross-Data Learning. In Proceedings of the 2018 International Conference on Digital Health (DH '18). ACM, New York, NY, USA, 121-125. DOI: [Web Link](https://doi.org/10.1145/3194658.3194677)"
   ]
  },
  {
   "cell_type": "markdown",
   "metadata": {},
   "source": [
    "### Import Modules"
   ]
  },
  {
   "cell_type": "code",
   "execution_count": 57,
   "metadata": {},
   "outputs": [],
   "source": [
    "import pandas as pd\n",
    "import numpy as np\n",
    "import re\n",
    "import nltk\n",
    "from afinn import Afinn\n",
    "from nltk.sentiment.vader import SentimentIntensityAnalyzer\n",
    "import matplotlib.pyplot as plt\n",
    "from spellchecker import SpellChecker\n",
    "import torch\n",
    "import transformers as ppb # pytorch transformers\n",
    "# nltk.download('vader_lexicon')\n",
    "# nltk.download('punkt')\n",
    "%matplotlib inline"
   ]
  },
  {
   "cell_type": "markdown",
   "metadata": {},
   "source": [
    "### Import Data"
   ]
  },
  {
   "cell_type": "code",
   "execution_count": 9,
   "metadata": {},
   "outputs": [],
   "source": [
    "## Import the train and test data, assign an ID, and join them for easier processing\n",
    "\n",
    "train = pd.read_csv('../data/drugsCom_raw/drugsComTrain_raw.tsv', delimiter = '\\t', \n",
    "                    index_col = 0).reset_index(drop = True)\n",
    "train['ID'] = 'train'\n",
    "\n",
    "\n",
    "test = pd.read_csv('../data/drugsCom_raw/drugsComTrain_raw.tsv', delimiter = '\\t', \n",
    "                   index_col = 0).reset_index(drop = True)\n",
    "test['ID'] = 'test'\n",
    "\n",
    "fullDat = train.append(test).reset_index(drop = True)"
   ]
  },
  {
   "cell_type": "code",
   "execution_count": 10,
   "metadata": {},
   "outputs": [
    {
     "data": {
      "text/html": [
       "<div>\n",
       "<style scoped>\n",
       "    .dataframe tbody tr th:only-of-type {\n",
       "        vertical-align: middle;\n",
       "    }\n",
       "\n",
       "    .dataframe tbody tr th {\n",
       "        vertical-align: top;\n",
       "    }\n",
       "\n",
       "    .dataframe thead th {\n",
       "        text-align: right;\n",
       "    }\n",
       "</style>\n",
       "<table border=\"1\" class=\"dataframe\">\n",
       "  <thead>\n",
       "    <tr style=\"text-align: right;\">\n",
       "      <th></th>\n",
       "      <th>drugName</th>\n",
       "      <th>condition</th>\n",
       "      <th>review</th>\n",
       "      <th>rating</th>\n",
       "      <th>date</th>\n",
       "      <th>usefulCount</th>\n",
       "      <th>ID</th>\n",
       "    </tr>\n",
       "  </thead>\n",
       "  <tbody>\n",
       "    <tr>\n",
       "      <th>0</th>\n",
       "      <td>Valsartan</td>\n",
       "      <td>Left Ventricular Dysfunction</td>\n",
       "      <td>\"It has no side effect, I take it in combinati...</td>\n",
       "      <td>9.0</td>\n",
       "      <td>May 20, 2012</td>\n",
       "      <td>27</td>\n",
       "      <td>train</td>\n",
       "    </tr>\n",
       "    <tr>\n",
       "      <th>1</th>\n",
       "      <td>Guanfacine</td>\n",
       "      <td>ADHD</td>\n",
       "      <td>\"My son is halfway through his fourth week of ...</td>\n",
       "      <td>8.0</td>\n",
       "      <td>April 27, 2010</td>\n",
       "      <td>192</td>\n",
       "      <td>train</td>\n",
       "    </tr>\n",
       "    <tr>\n",
       "      <th>2</th>\n",
       "      <td>Lybrel</td>\n",
       "      <td>Birth Control</td>\n",
       "      <td>\"I used to take another oral contraceptive, wh...</td>\n",
       "      <td>5.0</td>\n",
       "      <td>December 14, 2009</td>\n",
       "      <td>17</td>\n",
       "      <td>train</td>\n",
       "    </tr>\n",
       "    <tr>\n",
       "      <th>3</th>\n",
       "      <td>Ortho Evra</td>\n",
       "      <td>Birth Control</td>\n",
       "      <td>\"This is my first time using any form of birth...</td>\n",
       "      <td>8.0</td>\n",
       "      <td>November 3, 2015</td>\n",
       "      <td>10</td>\n",
       "      <td>train</td>\n",
       "    </tr>\n",
       "    <tr>\n",
       "      <th>4</th>\n",
       "      <td>Buprenorphine / naloxone</td>\n",
       "      <td>Opiate Dependence</td>\n",
       "      <td>\"Suboxone has completely turned my life around...</td>\n",
       "      <td>9.0</td>\n",
       "      <td>November 27, 2016</td>\n",
       "      <td>37</td>\n",
       "      <td>train</td>\n",
       "    </tr>\n",
       "  </tbody>\n",
       "</table>\n",
       "</div>"
      ],
      "text/plain": [
       "                   drugName                     condition  \\\n",
       "0                 Valsartan  Left Ventricular Dysfunction   \n",
       "1                Guanfacine                          ADHD   \n",
       "2                    Lybrel                 Birth Control   \n",
       "3                Ortho Evra                 Birth Control   \n",
       "4  Buprenorphine / naloxone             Opiate Dependence   \n",
       "\n",
       "                                              review  rating  \\\n",
       "0  \"It has no side effect, I take it in combinati...     9.0   \n",
       "1  \"My son is halfway through his fourth week of ...     8.0   \n",
       "2  \"I used to take another oral contraceptive, wh...     5.0   \n",
       "3  \"This is my first time using any form of birth...     8.0   \n",
       "4  \"Suboxone has completely turned my life around...     9.0   \n",
       "\n",
       "                date  usefulCount     ID  \n",
       "0       May 20, 2012           27  train  \n",
       "1     April 27, 2010          192  train  \n",
       "2  December 14, 2009           17  train  \n",
       "3   November 3, 2015           10  train  \n",
       "4  November 27, 2016           37  train  "
      ]
     },
     "execution_count": 10,
     "metadata": {},
     "output_type": "execute_result"
    }
   ],
   "source": [
    "fullDat.head()"
   ]
  },
  {
   "cell_type": "code",
   "execution_count": 13,
   "metadata": {},
   "outputs": [
    {
     "data": {
      "text/plain": [
       "10.0    101978\n",
       "9.0      55062\n",
       "1.0      43238\n",
       "8.0      37780\n",
       "7.0      18912\n",
       "5.0      16026\n",
       "2.0      13862\n",
       "3.0      13026\n",
       "6.0      12686\n",
       "4.0      10024\n",
       "Name: rating, dtype: int64"
      ]
     },
     "execution_count": 13,
     "metadata": {},
     "output_type": "execute_result"
    }
   ],
   "source": [
    "fullDat.rating.value_counts()"
   ]
  },
  {
   "cell_type": "code",
   "execution_count": 16,
   "metadata": {},
   "outputs": [],
   "source": [
    "## Ratings are all intergers so converting away from the float they currently are\n",
    "fullDat.rating = fullDat.rating.astype('int')"
   ]
  },
  {
   "cell_type": "code",
   "execution_count": 17,
   "metadata": {},
   "outputs": [
    {
     "data": {
      "text/html": [
       "<div>\n",
       "<style scoped>\n",
       "    .dataframe tbody tr th:only-of-type {\n",
       "        vertical-align: middle;\n",
       "    }\n",
       "\n",
       "    .dataframe tbody tr th {\n",
       "        vertical-align: top;\n",
       "    }\n",
       "\n",
       "    .dataframe thead th {\n",
       "        text-align: right;\n",
       "    }\n",
       "</style>\n",
       "<table border=\"1\" class=\"dataframe\">\n",
       "  <thead>\n",
       "    <tr style=\"text-align: right;\">\n",
       "      <th></th>\n",
       "      <th>drugName</th>\n",
       "      <th>condition</th>\n",
       "      <th>review</th>\n",
       "      <th>rating</th>\n",
       "      <th>date</th>\n",
       "      <th>usefulCount</th>\n",
       "      <th>ID</th>\n",
       "    </tr>\n",
       "  </thead>\n",
       "  <tbody>\n",
       "    <tr>\n",
       "      <th>0</th>\n",
       "      <td>Valsartan</td>\n",
       "      <td>Left Ventricular Dysfunction</td>\n",
       "      <td>\"It has no side effect, I take it in combinati...</td>\n",
       "      <td>9</td>\n",
       "      <td>May 20, 2012</td>\n",
       "      <td>27</td>\n",
       "      <td>train</td>\n",
       "    </tr>\n",
       "    <tr>\n",
       "      <th>1</th>\n",
       "      <td>Guanfacine</td>\n",
       "      <td>ADHD</td>\n",
       "      <td>\"My son is halfway through his fourth week of ...</td>\n",
       "      <td>8</td>\n",
       "      <td>April 27, 2010</td>\n",
       "      <td>192</td>\n",
       "      <td>train</td>\n",
       "    </tr>\n",
       "    <tr>\n",
       "      <th>2</th>\n",
       "      <td>Lybrel</td>\n",
       "      <td>Birth Control</td>\n",
       "      <td>\"I used to take another oral contraceptive, wh...</td>\n",
       "      <td>5</td>\n",
       "      <td>December 14, 2009</td>\n",
       "      <td>17</td>\n",
       "      <td>train</td>\n",
       "    </tr>\n",
       "    <tr>\n",
       "      <th>3</th>\n",
       "      <td>Ortho Evra</td>\n",
       "      <td>Birth Control</td>\n",
       "      <td>\"This is my first time using any form of birth...</td>\n",
       "      <td>8</td>\n",
       "      <td>November 3, 2015</td>\n",
       "      <td>10</td>\n",
       "      <td>train</td>\n",
       "    </tr>\n",
       "    <tr>\n",
       "      <th>4</th>\n",
       "      <td>Buprenorphine / naloxone</td>\n",
       "      <td>Opiate Dependence</td>\n",
       "      <td>\"Suboxone has completely turned my life around...</td>\n",
       "      <td>9</td>\n",
       "      <td>November 27, 2016</td>\n",
       "      <td>37</td>\n",
       "      <td>train</td>\n",
       "    </tr>\n",
       "  </tbody>\n",
       "</table>\n",
       "</div>"
      ],
      "text/plain": [
       "                   drugName                     condition  \\\n",
       "0                 Valsartan  Left Ventricular Dysfunction   \n",
       "1                Guanfacine                          ADHD   \n",
       "2                    Lybrel                 Birth Control   \n",
       "3                Ortho Evra                 Birth Control   \n",
       "4  Buprenorphine / naloxone             Opiate Dependence   \n",
       "\n",
       "                                              review  rating  \\\n",
       "0  \"It has no side effect, I take it in combinati...       9   \n",
       "1  \"My son is halfway through his fourth week of ...       8   \n",
       "2  \"I used to take another oral contraceptive, wh...       5   \n",
       "3  \"This is my first time using any form of birth...       8   \n",
       "4  \"Suboxone has completely turned my life around...       9   \n",
       "\n",
       "                date  usefulCount     ID  \n",
       "0       May 20, 2012           27  train  \n",
       "1     April 27, 2010          192  train  \n",
       "2  December 14, 2009           17  train  \n",
       "3   November 3, 2015           10  train  \n",
       "4  November 27, 2016           37  train  "
      ]
     },
     "execution_count": 17,
     "metadata": {},
     "output_type": "execute_result"
    }
   ],
   "source": [
    "fullDat.head()"
   ]
  },
  {
   "cell_type": "markdown",
   "metadata": {},
   "source": [
    "### Clean Text"
   ]
  },
  {
   "cell_type": "markdown",
   "metadata": {},
   "source": [
    "The review's provided are not very clean with formatting provided for non-alphanumeric characters. Rather than using regex, manually removing to set to obtain a correct word. Rather than replace `I&#039;m` to `Im` with regex, manually replacing to `I'm`."
   ]
  },
  {
   "cell_type": "code",
   "execution_count": 18,
   "metadata": {},
   "outputs": [],
   "source": [
    "## Loop over each review and, if the review has a string that matches the regex pattern, add to set for review\n",
    "## Regex pattern looks for &, then any number of characters up to a ;\n",
    "\n",
    "fixCount = {}\n",
    "\n",
    "find = re.compile('(&.*?;)')\n",
    "\n",
    "for index, row in fullDat.iterrows():\n",
    "    regexOut = find.findall(row['review'])\n",
    "    for item in regexOut:\n",
    "        fixCount[item] = fixCount.get(item, 0) + 1"
   ]
  },
  {
   "cell_type": "code",
   "execution_count": 19,
   "metadata": {},
   "outputs": [
    {
     "data": {
      "text/plain": [
       "{'&#039;': 524830,\n",
       " '&amp;': 26094,\n",
       " '&quot;': 42524,\n",
       " '&rsquo;': 6058,\n",
       " '&gt;': 324,\n",
       " '&times;': 54,\n",
       " '&egrave;': 16,\n",
       " '&bull;': 104,\n",
       " '&euro;': 24,\n",
       " '&lt;': 216,\n",
       " '&pound;': 56,\n",
       " '&nbsp;': 28,\n",
       " '&mdash;': 132,\n",
       " '&lsquo;': 60,\n",
       " '&ldquo;': 232,\n",
       " '&rdquo;': 234,\n",
       " '&deg;': 20,\n",
       " '&ndash;': 96,\n",
       " '&macr;': 16,\n",
       " '&eacute;': 222,\n",
       " '&ouml;': 10,\n",
       " '&frac12;': 30,\n",
       " '&reg;': 10,\n",
       " '&divide;': 4,\n",
       " '&hellip;': 136,\n",
       " '&acute;': 46,\n",
       " '&ge;': 2,\n",
       " '&frac34;': 4,\n",
       " '&ntilde;': 22,\n",
       " '&oacute;': 8,\n",
       " '&lrm;': 8,\n",
       " '&micro;': 2,\n",
       " '&frac14;': 4,\n",
       " '&agrave;': 10,\n",
       " '&Prime;': 4,\n",
       " '&igrave;': 2,\n",
       " '&ecirc;': 2,\n",
       " '&ocirc;': 2,\n",
       " '&Iacute;': 2,\n",
       " '&iacute;': 2,\n",
       " '&acirc;': 2,\n",
       " '&aacute;': 2,\n",
       " '&oslash;': 4,\n",
       " '&iquest;': 2}"
      ]
     },
     "execution_count": 19,
     "metadata": {},
     "output_type": "execute_result"
    }
   ],
   "source": [
    "fixCount"
   ]
  },
  {
   "cell_type": "code",
   "execution_count": 20,
   "metadata": {},
   "outputs": [],
   "source": [
    "toChange = {'&#039;': \"'\",\n",
    "            '&bull;': '',\n",
    "            '&amp;': 'and',\n",
    "            '&quot;': \"'\",\n",
    "            '&rsquo;': \"'\",\n",
    "            '&gt;': '>',\n",
    "            '&lt;': '<',\n",
    "            '&times;': '',\n",
    "            '&egrave;': 'e',\n",
    "            '&euro;': '',\n",
    "            '&pound;': '',\n",
    "            '&nbsp;': '',\n",
    "            '&mdash;': '-',\n",
    "            '&lsquo': \"'\",\n",
    "            '&ldquo': \"'\",\n",
    "            '&rdquo': \"'\",\n",
    "            '&deg;': '',\n",
    "            '&ndash': '-',\n",
    "            '&macr;': '',\n",
    "            '&eacute;': 'e',\n",
    "            '&ouml;': 'o',\n",
    "            '&frac12;': '1/2',\n",
    "            '&reg;': '',\n",
    "            '&divide;': '/',\n",
    "            '&hellip;': '',\n",
    "            '&acute;': '',\n",
    "            '&ge;': '>=',\n",
    "            '&frac34;': '3/4',\n",
    "            '&ntilde;': 'n',\n",
    "            '&oacute;': 'o',\n",
    "            '&lrm;': '',\n",
    "            '&micro;': '',\n",
    "            '&frac14;': '1/4',\n",
    "            '&agrave;': 'a',\n",
    "            '&Prime;': \"'\",\n",
    "            '&igrave;': 'i',\n",
    "            '&ecirc;': 'e',\n",
    "            '&ocirc;': 'o',\n",
    "            '&Iacute;': 'I',\n",
    "            '&iacute;': 'i',\n",
    "            '&acirc;': 'a',\n",
    "            '&aacute;': 'a',\n",
    "            '&oslash;': 'o',\n",
    "            '&iquest;': ''\n",
    "             }\n",
    "\n",
    "for changeFrom, changeTo in toChange.items():\n",
    "    fullDat['review'].replace(to_replace = changeFrom, value = changeTo, inplace = True,regex = True) "
   ]
  },
  {
   "cell_type": "code",
   "execution_count": 21,
   "metadata": {},
   "outputs": [
    {
     "data": {
      "text/plain": [
       "{}"
      ]
     },
     "execution_count": 21,
     "metadata": {},
     "output_type": "execute_result"
    }
   ],
   "source": [
    "## Rerun the regex to see if the fix missed anything\n",
    "fixCount = {}\n",
    "\n",
    "find = re.compile('(&.*?;)')\n",
    "\n",
    "for index, row in fullDat.iterrows():\n",
    "    regexOut = find.findall(row['review'])\n",
    "    for item in regexOut:\n",
    "        fixCount[item] = fixCount.get(item, 0) + 1\n",
    "        \n",
    "fixCount"
   ]
  },
  {
   "cell_type": "code",
   "execution_count": 22,
   "metadata": {},
   "outputs": [
    {
     "data": {
      "text/html": [
       "<div>\n",
       "<style scoped>\n",
       "    .dataframe tbody tr th:only-of-type {\n",
       "        vertical-align: middle;\n",
       "    }\n",
       "\n",
       "    .dataframe tbody tr th {\n",
       "        vertical-align: top;\n",
       "    }\n",
       "\n",
       "    .dataframe thead th {\n",
       "        text-align: right;\n",
       "    }\n",
       "</style>\n",
       "<table border=\"1\" class=\"dataframe\">\n",
       "  <thead>\n",
       "    <tr style=\"text-align: right;\">\n",
       "      <th></th>\n",
       "      <th>drugName</th>\n",
       "      <th>condition</th>\n",
       "      <th>review</th>\n",
       "      <th>rating</th>\n",
       "      <th>date</th>\n",
       "      <th>usefulCount</th>\n",
       "      <th>ID</th>\n",
       "    </tr>\n",
       "  </thead>\n",
       "  <tbody>\n",
       "    <tr>\n",
       "      <th>0</th>\n",
       "      <td>Valsartan</td>\n",
       "      <td>Left Ventricular Dysfunction</td>\n",
       "      <td>It has no side effect, I take it in combinatio...</td>\n",
       "      <td>9</td>\n",
       "      <td>May 20, 2012</td>\n",
       "      <td>27</td>\n",
       "      <td>train</td>\n",
       "    </tr>\n",
       "    <tr>\n",
       "      <th>1</th>\n",
       "      <td>Guanfacine</td>\n",
       "      <td>ADHD</td>\n",
       "      <td>My son is halfway through his fourth week of I...</td>\n",
       "      <td>8</td>\n",
       "      <td>April 27, 2010</td>\n",
       "      <td>192</td>\n",
       "      <td>train</td>\n",
       "    </tr>\n",
       "    <tr>\n",
       "      <th>2</th>\n",
       "      <td>Lybrel</td>\n",
       "      <td>Birth Control</td>\n",
       "      <td>I used to take another oral contraceptive, whi...</td>\n",
       "      <td>5</td>\n",
       "      <td>December 14, 2009</td>\n",
       "      <td>17</td>\n",
       "      <td>train</td>\n",
       "    </tr>\n",
       "    <tr>\n",
       "      <th>3</th>\n",
       "      <td>Ortho Evra</td>\n",
       "      <td>Birth Control</td>\n",
       "      <td>This is my first time using any form of birth ...</td>\n",
       "      <td>8</td>\n",
       "      <td>November 3, 2015</td>\n",
       "      <td>10</td>\n",
       "      <td>train</td>\n",
       "    </tr>\n",
       "    <tr>\n",
       "      <th>4</th>\n",
       "      <td>Buprenorphine / naloxone</td>\n",
       "      <td>Opiate Dependence</td>\n",
       "      <td>Suboxone has completely turned my life around....</td>\n",
       "      <td>9</td>\n",
       "      <td>November 27, 2016</td>\n",
       "      <td>37</td>\n",
       "      <td>train</td>\n",
       "    </tr>\n",
       "  </tbody>\n",
       "</table>\n",
       "</div>"
      ],
      "text/plain": [
       "                   drugName                     condition  \\\n",
       "0                 Valsartan  Left Ventricular Dysfunction   \n",
       "1                Guanfacine                          ADHD   \n",
       "2                    Lybrel                 Birth Control   \n",
       "3                Ortho Evra                 Birth Control   \n",
       "4  Buprenorphine / naloxone             Opiate Dependence   \n",
       "\n",
       "                                              review  rating  \\\n",
       "0  It has no side effect, I take it in combinatio...       9   \n",
       "1  My son is halfway through his fourth week of I...       8   \n",
       "2  I used to take another oral contraceptive, whi...       5   \n",
       "3  This is my first time using any form of birth ...       8   \n",
       "4  Suboxone has completely turned my life around....       9   \n",
       "\n",
       "                date  usefulCount     ID  \n",
       "0       May 20, 2012           27  train  \n",
       "1     April 27, 2010          192  train  \n",
       "2  December 14, 2009           17  train  \n",
       "3   November 3, 2015           10  train  \n",
       "4  November 27, 2016           37  train  "
      ]
     },
     "execution_count": 22,
     "metadata": {},
     "output_type": "execute_result"
    }
   ],
   "source": [
    "## Remove the beginning and ending quotes\n",
    "fullDat['review'] = fullDat['review'].str[1:-1]\n",
    "fullDat.head()"
   ]
  },
  {
   "cell_type": "markdown",
   "metadata": {},
   "source": [
    "### Run sentiment analysis"
   ]
  },
  {
   "cell_type": "markdown",
   "metadata": {},
   "source": [
    "For this section, I will be using `VADER`. The implementation of which in Python is heavily derived from this source: https://programminghistorian.org/en/lessons/sentiment-analysis\n",
    "\n",
    "Additionally testing sentiments traditionally used in R with `AFINN`."
   ]
  },
  {
   "cell_type": "code",
   "execution_count": 23,
   "metadata": {},
   "outputs": [],
   "source": [
    "## AFINN\n",
    "afinn = Afinn()\n",
    "for index, row in fullDat.iterrows():\n",
    "    fullDat.at[index,'sent_AFINN'] = afinn.score(row['review'])"
   ]
  },
  {
   "cell_type": "code",
   "execution_count": 24,
   "metadata": {},
   "outputs": [
    {
     "data": {
      "text/html": [
       "<div>\n",
       "<style scoped>\n",
       "    .dataframe tbody tr th:only-of-type {\n",
       "        vertical-align: middle;\n",
       "    }\n",
       "\n",
       "    .dataframe tbody tr th {\n",
       "        vertical-align: top;\n",
       "    }\n",
       "\n",
       "    .dataframe thead th {\n",
       "        text-align: right;\n",
       "    }\n",
       "</style>\n",
       "<table border=\"1\" class=\"dataframe\">\n",
       "  <thead>\n",
       "    <tr style=\"text-align: right;\">\n",
       "      <th></th>\n",
       "      <th>drugName</th>\n",
       "      <th>condition</th>\n",
       "      <th>review</th>\n",
       "      <th>rating</th>\n",
       "      <th>date</th>\n",
       "      <th>usefulCount</th>\n",
       "      <th>ID</th>\n",
       "      <th>sent_AFINN</th>\n",
       "    </tr>\n",
       "  </thead>\n",
       "  <tbody>\n",
       "    <tr>\n",
       "      <th>0</th>\n",
       "      <td>Valsartan</td>\n",
       "      <td>Left Ventricular Dysfunction</td>\n",
       "      <td>It has no side effect, I take it in combinatio...</td>\n",
       "      <td>9</td>\n",
       "      <td>May 20, 2012</td>\n",
       "      <td>27</td>\n",
       "      <td>train</td>\n",
       "      <td>-1.0</td>\n",
       "    </tr>\n",
       "    <tr>\n",
       "      <th>1</th>\n",
       "      <td>Guanfacine</td>\n",
       "      <td>ADHD</td>\n",
       "      <td>My son is halfway through his fourth week of I...</td>\n",
       "      <td>8</td>\n",
       "      <td>April 27, 2010</td>\n",
       "      <td>192</td>\n",
       "      <td>train</td>\n",
       "      <td>6.0</td>\n",
       "    </tr>\n",
       "    <tr>\n",
       "      <th>2</th>\n",
       "      <td>Lybrel</td>\n",
       "      <td>Birth Control</td>\n",
       "      <td>I used to take another oral contraceptive, whi...</td>\n",
       "      <td>5</td>\n",
       "      <td>December 14, 2009</td>\n",
       "      <td>17</td>\n",
       "      <td>train</td>\n",
       "      <td>1.0</td>\n",
       "    </tr>\n",
       "    <tr>\n",
       "      <th>3</th>\n",
       "      <td>Ortho Evra</td>\n",
       "      <td>Birth Control</td>\n",
       "      <td>This is my first time using any form of birth ...</td>\n",
       "      <td>8</td>\n",
       "      <td>November 3, 2015</td>\n",
       "      <td>10</td>\n",
       "      <td>train</td>\n",
       "      <td>5.0</td>\n",
       "    </tr>\n",
       "    <tr>\n",
       "      <th>4</th>\n",
       "      <td>Buprenorphine / naloxone</td>\n",
       "      <td>Opiate Dependence</td>\n",
       "      <td>Suboxone has completely turned my life around....</td>\n",
       "      <td>9</td>\n",
       "      <td>November 27, 2016</td>\n",
       "      <td>37</td>\n",
       "      <td>train</td>\n",
       "      <td>5.0</td>\n",
       "    </tr>\n",
       "  </tbody>\n",
       "</table>\n",
       "</div>"
      ],
      "text/plain": [
       "                   drugName                     condition  \\\n",
       "0                 Valsartan  Left Ventricular Dysfunction   \n",
       "1                Guanfacine                          ADHD   \n",
       "2                    Lybrel                 Birth Control   \n",
       "3                Ortho Evra                 Birth Control   \n",
       "4  Buprenorphine / naloxone             Opiate Dependence   \n",
       "\n",
       "                                              review  rating  \\\n",
       "0  It has no side effect, I take it in combinatio...       9   \n",
       "1  My son is halfway through his fourth week of I...       8   \n",
       "2  I used to take another oral contraceptive, whi...       5   \n",
       "3  This is my first time using any form of birth ...       8   \n",
       "4  Suboxone has completely turned my life around....       9   \n",
       "\n",
       "                date  usefulCount     ID  sent_AFINN  \n",
       "0       May 20, 2012           27  train        -1.0  \n",
       "1     April 27, 2010          192  train         6.0  \n",
       "2  December 14, 2009           17  train         1.0  \n",
       "3   November 3, 2015           10  train         5.0  \n",
       "4  November 27, 2016           37  train         5.0  "
      ]
     },
     "execution_count": 24,
     "metadata": {},
     "output_type": "execute_result"
    }
   ],
   "source": [
    "fullDat.head()"
   ]
  },
  {
   "cell_type": "code",
   "execution_count": 25,
   "metadata": {},
   "outputs": [],
   "source": [
    "## VADER\n",
    "sid = SentimentIntensityAnalyzer()\n",
    "for index, row in fullDat.iterrows():\n",
    "    scores = sid.polarity_scores(row['review'])\n",
    "    fullDat.at[index,'sent_VADER_neg'] = scores['neg']\n",
    "    fullDat.at[index,'sent_VADER_neu'] = scores['neu']\n",
    "    fullDat.at[index,'sent_VADER_pos'] = scores['pos']\n",
    "    fullDat.at[index,'sent_VADER_compound'] = scores['compound']"
   ]
  },
  {
   "cell_type": "code",
   "execution_count": 26,
   "metadata": {},
   "outputs": [],
   "source": [
    "# fullDat.head()\n",
    "# fullDat.to_csv('PreppedFullDat.csv')"
   ]
  },
  {
   "cell_type": "markdown",
   "metadata": {},
   "source": [
    "### Review Sentiment Scores vs. `rating`"
   ]
  },
  {
   "cell_type": "code",
   "execution_count": 3,
   "metadata": {},
   "outputs": [
    {
     "data": {
      "text/html": [
       "<div>\n",
       "<style scoped>\n",
       "    .dataframe tbody tr th:only-of-type {\n",
       "        vertical-align: middle;\n",
       "    }\n",
       "\n",
       "    .dataframe tbody tr th {\n",
       "        vertical-align: top;\n",
       "    }\n",
       "\n",
       "    .dataframe thead th {\n",
       "        text-align: right;\n",
       "    }\n",
       "</style>\n",
       "<table border=\"1\" class=\"dataframe\">\n",
       "  <thead>\n",
       "    <tr style=\"text-align: right;\">\n",
       "      <th></th>\n",
       "      <th>Unnamed: 0</th>\n",
       "      <th>drugName</th>\n",
       "      <th>condition</th>\n",
       "      <th>review</th>\n",
       "      <th>rating</th>\n",
       "      <th>date</th>\n",
       "      <th>usefulCount</th>\n",
       "      <th>ID</th>\n",
       "      <th>sent_AFINN</th>\n",
       "      <th>sent_VADER_neg</th>\n",
       "      <th>sent_VADER_neu</th>\n",
       "      <th>sent_VADER_pos</th>\n",
       "      <th>sent_VADER_compound</th>\n",
       "    </tr>\n",
       "  </thead>\n",
       "  <tbody>\n",
       "    <tr>\n",
       "      <th>0</th>\n",
       "      <td>0</td>\n",
       "      <td>Valsartan</td>\n",
       "      <td>Left Ventricular Dysfunction</td>\n",
       "      <td>It has no side effect, I take it in combinatio...</td>\n",
       "      <td>9</td>\n",
       "      <td>May 20, 2012</td>\n",
       "      <td>27</td>\n",
       "      <td>train</td>\n",
       "      <td>-1.0</td>\n",
       "      <td>0.136</td>\n",
       "      <td>0.864</td>\n",
       "      <td>0.000</td>\n",
       "      <td>-0.2960</td>\n",
       "    </tr>\n",
       "    <tr>\n",
       "      <th>1</th>\n",
       "      <td>1</td>\n",
       "      <td>Guanfacine</td>\n",
       "      <td>ADHD</td>\n",
       "      <td>My son is halfway through his fourth week of I...</td>\n",
       "      <td>8</td>\n",
       "      <td>April 27, 2010</td>\n",
       "      <td>192</td>\n",
       "      <td>train</td>\n",
       "      <td>6.0</td>\n",
       "      <td>0.018</td>\n",
       "      <td>0.871</td>\n",
       "      <td>0.111</td>\n",
       "      <td>0.9174</td>\n",
       "    </tr>\n",
       "    <tr>\n",
       "      <th>2</th>\n",
       "      <td>2</td>\n",
       "      <td>Lybrel</td>\n",
       "      <td>Birth Control</td>\n",
       "      <td>I used to take another oral contraceptive, whi...</td>\n",
       "      <td>5</td>\n",
       "      <td>December 14, 2009</td>\n",
       "      <td>17</td>\n",
       "      <td>train</td>\n",
       "      <td>1.0</td>\n",
       "      <td>0.055</td>\n",
       "      <td>0.868</td>\n",
       "      <td>0.077</td>\n",
       "      <td>0.6387</td>\n",
       "    </tr>\n",
       "    <tr>\n",
       "      <th>3</th>\n",
       "      <td>3</td>\n",
       "      <td>Ortho Evra</td>\n",
       "      <td>Birth Control</td>\n",
       "      <td>This is my first time using any form of birth ...</td>\n",
       "      <td>8</td>\n",
       "      <td>November 3, 2015</td>\n",
       "      <td>10</td>\n",
       "      <td>train</td>\n",
       "      <td>5.0</td>\n",
       "      <td>0.027</td>\n",
       "      <td>0.879</td>\n",
       "      <td>0.093</td>\n",
       "      <td>0.7184</td>\n",
       "    </tr>\n",
       "    <tr>\n",
       "      <th>4</th>\n",
       "      <td>4</td>\n",
       "      <td>Buprenorphine / naloxone</td>\n",
       "      <td>Opiate Dependence</td>\n",
       "      <td>Suboxone has completely turned my life around....</td>\n",
       "      <td>9</td>\n",
       "      <td>November 27, 2016</td>\n",
       "      <td>37</td>\n",
       "      <td>train</td>\n",
       "      <td>5.0</td>\n",
       "      <td>0.064</td>\n",
       "      <td>0.758</td>\n",
       "      <td>0.178</td>\n",
       "      <td>0.9403</td>\n",
       "    </tr>\n",
       "  </tbody>\n",
       "</table>\n",
       "</div>"
      ],
      "text/plain": [
       "   Unnamed: 0                  drugName                     condition  \\\n",
       "0           0                 Valsartan  Left Ventricular Dysfunction   \n",
       "1           1                Guanfacine                          ADHD   \n",
       "2           2                    Lybrel                 Birth Control   \n",
       "3           3                Ortho Evra                 Birth Control   \n",
       "4           4  Buprenorphine / naloxone             Opiate Dependence   \n",
       "\n",
       "                                              review  rating  \\\n",
       "0  It has no side effect, I take it in combinatio...       9   \n",
       "1  My son is halfway through his fourth week of I...       8   \n",
       "2  I used to take another oral contraceptive, whi...       5   \n",
       "3  This is my first time using any form of birth ...       8   \n",
       "4  Suboxone has completely turned my life around....       9   \n",
       "\n",
       "                date  usefulCount     ID  sent_AFINN  sent_VADER_neg  \\\n",
       "0       May 20, 2012           27  train        -1.0           0.136   \n",
       "1     April 27, 2010          192  train         6.0           0.018   \n",
       "2  December 14, 2009           17  train         1.0           0.055   \n",
       "3   November 3, 2015           10  train         5.0           0.027   \n",
       "4  November 27, 2016           37  train         5.0           0.064   \n",
       "\n",
       "   sent_VADER_neu  sent_VADER_pos  sent_VADER_compound  \n",
       "0           0.864           0.000              -0.2960  \n",
       "1           0.871           0.111               0.9174  \n",
       "2           0.868           0.077               0.6387  \n",
       "3           0.879           0.093               0.7184  \n",
       "4           0.758           0.178               0.9403  "
      ]
     },
     "execution_count": 3,
     "metadata": {},
     "output_type": "execute_result"
    }
   ],
   "source": [
    "# fullDat = pd.read_csv('PreppedFullDat.csv')\n",
    "# fullDat.head()"
   ]
  },
  {
   "cell_type": "code",
   "execution_count": 29,
   "metadata": {},
   "outputs": [
    {
     "data": {
      "text/plain": [
       "Text(0.5, 1.0, 'VADER Positive')"
      ]
     },
     "execution_count": 29,
     "metadata": {},
     "output_type": "execute_result"
    },
    {
     "data": {
      "image/png": "[encoded data removed]",
      "text/plain": [
       "<Figure size 1080x576 with 4 Axes>"
      ]
     },
     "metadata": {
      "needs_background": "light"
     },
     "output_type": "display_data"
    }
   ],
   "source": [
    "## Plot all four sub-plots of sentiment predictions\n",
    "\n",
    "fig, axs = plt.subplots(2, 2, figsize = (15,8))\n",
    "axs[0, 0].scatter(fullDat.rating, fullDat.sent_AFINN)\n",
    "axs[0, 0].set_title('AFINN')\n",
    "axs[0, 0].set_ylim(-50, 50)\n",
    "axs[0, 1].scatter(fullDat.rating, fullDat.sent_VADER_neg)\n",
    "axs[0, 1].set_title('VADER Negative')\n",
    "axs[1, 0].scatter(fullDat.rating, fullDat.sent_VADER_neu)\n",
    "axs[1, 0].set_title('VADER Neutral')\n",
    "axs[1, 1].scatter(fullDat.rating, fullDat.sent_VADER_pos)\n",
    "axs[1, 1].set_title('VADER Positive')\n"
   ]
  },
  {
   "cell_type": "markdown",
   "metadata": {},
   "source": [
    "There appears to be a rough positive correlations with AFINN and the positive VADER prediction. Running through a true correlation analysis to determine statistical correlation."
   ]
  },
  {
   "cell_type": "markdown",
   "metadata": {},
   "source": [
    "As hypothesized from the visuals, there does not appear to be a strong correlation between rating and any of the sentiment figures. Assuming we are capturing sentiment appropriately, it does not appear there is a strong relationships between sentiment and rating.\n",
    "\n",
    "Reviewed introducing a spell checker but most text looks relatively clean and individual drugs names would need to be removed from spell check."
   ]
  },
  {
   "cell_type": "code",
   "execution_count": 23,
   "metadata": {},
   "outputs": [
    {
     "data": {
      "text/html": [
       "<div>\n",
       "<style scoped>\n",
       "    .dataframe tbody tr th:only-of-type {\n",
       "        vertical-align: middle;\n",
       "    }\n",
       "\n",
       "    .dataframe tbody tr th {\n",
       "        vertical-align: top;\n",
       "    }\n",
       "\n",
       "    .dataframe thead th {\n",
       "        text-align: right;\n",
       "    }\n",
       "</style>\n",
       "<table border=\"1\" class=\"dataframe\">\n",
       "  <thead>\n",
       "    <tr style=\"text-align: right;\">\n",
       "      <th></th>\n",
       "      <th>rating</th>\n",
       "      <th>sent_AFINN</th>\n",
       "      <th>sent_VADER_neg</th>\n",
       "      <th>sent_VADER_neu</th>\n",
       "      <th>sent_VADER_pos</th>\n",
       "    </tr>\n",
       "  </thead>\n",
       "  <tbody>\n",
       "    <tr>\n",
       "      <th>rating</th>\n",
       "      <td>1.000000</td>\n",
       "      <td>0.284946</td>\n",
       "      <td>-0.268388</td>\n",
       "      <td>-0.020045</td>\n",
       "      <td>0.269879</td>\n",
       "    </tr>\n",
       "    <tr>\n",
       "      <th>sent_AFINN</th>\n",
       "      <td>0.284946</td>\n",
       "      <td>1.000000</td>\n",
       "      <td>-0.511012</td>\n",
       "      <td>0.035353</td>\n",
       "      <td>0.428196</td>\n",
       "    </tr>\n",
       "    <tr>\n",
       "      <th>sent_VADER_neg</th>\n",
       "      <td>-0.268388</td>\n",
       "      <td>-0.511012</td>\n",
       "      <td>1.000000</td>\n",
       "      <td>-0.562776</td>\n",
       "      <td>-0.260050</td>\n",
       "    </tr>\n",
       "    <tr>\n",
       "      <th>sent_VADER_neu</th>\n",
       "      <td>-0.020045</td>\n",
       "      <td>0.035353</td>\n",
       "      <td>-0.562776</td>\n",
       "      <td>1.000000</td>\n",
       "      <td>-0.650012</td>\n",
       "    </tr>\n",
       "    <tr>\n",
       "      <th>sent_VADER_pos</th>\n",
       "      <td>0.269879</td>\n",
       "      <td>0.428196</td>\n",
       "      <td>-0.260050</td>\n",
       "      <td>-0.650012</td>\n",
       "      <td>1.000000</td>\n",
       "    </tr>\n",
       "  </tbody>\n",
       "</table>\n",
       "</div>"
      ],
      "text/plain": [
       "                  rating  sent_AFINN  sent_VADER_neg  sent_VADER_neu  \\\n",
       "rating          1.000000    0.284946       -0.268388       -0.020045   \n",
       "sent_AFINN      0.284946    1.000000       -0.511012        0.035353   \n",
       "sent_VADER_neg -0.268388   -0.511012        1.000000       -0.562776   \n",
       "sent_VADER_neu -0.020045    0.035353       -0.562776        1.000000   \n",
       "sent_VADER_pos  0.269879    0.428196       -0.260050       -0.650012   \n",
       "\n",
       "                sent_VADER_pos  \n",
       "rating                0.269879  \n",
       "sent_AFINN            0.428196  \n",
       "sent_VADER_neg       -0.260050  \n",
       "sent_VADER_neu       -0.650012  \n",
       "sent_VADER_pos        1.000000  "
      ]
     },
     "execution_count": 23,
     "metadata": {},
     "output_type": "execute_result"
    }
   ],
   "source": [
    "fullDat[['rating', 'sent_AFINN', 'sent_VADER_neg', 'sent_VADER_neu', 'sent_VADER_pos']].corr()"
   ]
  },
  {
   "cell_type": "markdown",
   "metadata": {},
   "source": [
    "### BERT Model"
   ]
  },
  {
   "cell_type": "markdown",
   "metadata": {},
   "source": [
    "For this exploration, relying on two walkthroughs. The first can be found [here](http://jalammar.github.io/a-visual-guide-to-using-bert-for-the-first-time/) which simply takes DistilBERT pre-trained model and uses pre-trained encoding as features within a model. We will use these features to predict rating and determine correlation. The second, which can be found here, uses transfer learngin on top of DistilBERT (or another hugging transformer algorithm) to generate a model."
   ]
  },
  {
   "cell_type": "code",
   "execution_count": 61,
   "metadata": {},
   "outputs": [
    {
     "data": {
      "application/vnd.jupyter.widget-view+json": {
       "model_id": "9b0744713ef44294962d83f8197c60ed",
       "version_major": 2,
       "version_minor": 0
      },
      "text/plain": [
       "HBox(children=(FloatProgress(value=0.0, description='Downloading', max=231508.0, style=ProgressStyle(descripti…"
      ]
     },
     "metadata": {},
     "output_type": "display_data"
    },
    {
     "name": "stdout",
     "output_type": "stream",
     "text": [
      "\n"
     ]
    },
    {
     "data": {
      "application/vnd.jupyter.widget-view+json": {
       "model_id": "4f2fec0eb63046eb823164231ff74f5d",
       "version_major": 2,
       "version_minor": 0
      },
      "text/plain": [
       "HBox(children=(FloatProgress(value=0.0, description='Downloading', max=442.0, style=ProgressStyle(description_…"
      ]
     },
     "metadata": {},
     "output_type": "display_data"
    },
    {
     "name": "stdout",
     "output_type": "stream",
     "text": [
      "\n"
     ]
    },
    {
     "data": {
      "application/vnd.jupyter.widget-view+json": {
       "model_id": "788c04121f784d488e8fca15b256c63a",
       "version_major": 2,
       "version_minor": 0
      },
      "text/plain": [
       "HBox(children=(FloatProgress(value=0.0, description='Downloading', max=267967963.0, style=ProgressStyle(descri…"
      ]
     },
     "metadata": {},
     "output_type": "display_data"
    },
    {
     "name": "stdout",
     "output_type": "stream",
     "text": [
      "\n"
     ]
    }
   ],
   "source": [
    "model_class, tokenizer_class, pretrained_weights = (ppb.DistilBertModel, ppb.DistilBertTokenizer, 'distilbert-base-uncased')\n",
    "\n",
    "# Load pretrained model/tokenizer\n",
    "tokenizer = tokenizer_class.from_pretrained(pretrained_weights)\n",
    "model = model_class.from_pretrained(pretrained_weights)"
   ]
  },
  {
   "cell_type": "code",
   "execution_count": null,
   "metadata": {},
   "outputs": [],
   "source": [
    "tokenized_train = fullDat[fullDat.ID == 'train'].review.apply((lambda x: tokenizer.encode(x, add_special_tokens=True, max_length = 512, truncation = True)))\n",
    "tokenized_test = fullDat[fullDat.ID == 'test'].review.apply((lambda x: tokenizer.encode(x, add_special_tokens=True, max_length = 512, truncation = True)))"
   ]
  },
  {
   "cell_type": "code",
   "execution_count": null,
   "metadata": {},
   "outputs": [],
   "source": [
    "input_ids = torch.tensor(np.array(padded))\n",
    "\n",
    "with torch.no_grad():\n",
    "    last_hidden_states = model(input_ids)\n",
    "    \n",
    "features = last_hidden_states[0][:,0,:].numpy()"
   ]
  }
 ],
 "metadata": {
  "kernelspec": {
   "display_name": "Python 3",
   "language": "python",
   "name": "python3"
  },
  "language_info": {
   "codemirror_mode": {
    "name": "ipython",
    "version": 3
   },
   "file_extension": ".py",
   "mimetype": "text/x-python",
   "name": "python",
   "nbconvert_exporter": "python",
   "pygments_lexer": "ipython3",
   "version": "3.7.6"
  }
 },
 "nbformat": 4,
 "nbformat_minor": 4
}
